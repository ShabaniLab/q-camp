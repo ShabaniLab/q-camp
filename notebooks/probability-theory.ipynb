{
 "cells": [
  {
   "cell_type": "markdown",
   "id": "applicable-leonard",
   "metadata": {},
   "source": [
    "# Probability Theory\n",
    "\n",
    "In this notebook we are going to learn how to work with concepts in probability theory in `python`. We will learn how to generate random numbers, plot the distribution of outcomes, and calculate expectation values. \n",
    "\n",
    "## `random` library\n",
    "This library is a part of `numpy` that provides some useful functions that can generate random numbers from different distribution functions such as uniform, integer generators such as coin flip, binomial distribution and etc. \n",
    "\n",
    "## simulate coin flip\n"
   ]
  },
  {
   "cell_type": "code",
   "execution_count": 2,
   "id": "contrary-brazil",
   "metadata": {},
   "outputs": [
    {
     "data": {
      "text/plain": [
       "4"
      ]
     },
     "execution_count": 2,
     "metadata": {},
     "output_type": "execute_result"
    }
   ],
   "source": [
    "# import numpy library\n",
    "import numpy as np\n",
    "\n",
    "# import pyplot library \n",
    "import matplotlib.pyplot as plt\n",
    "\n",
    "# generate a random number between 0 and 1\n",
    "np.random.randint(0, 5)"
   ]
  },
  {
   "cell_type": "markdown",
   "id": "defensive-preview",
   "metadata": {},
   "source": [
    "The function `randint` generates a random integer in the range $[0, 2)$ that is `0` or `1`. We can assign each integer to a specific outcome of a random event such as a coin flip. In that case we can define `0` to represent *head* and `1` to represent *tail*. \n",
    "\n",
    "## generate multiple coin flips \n",
    "\n",
    "If one were to flip a coin `n` times then the outcome could be represented by an array of `0`'s and `1`'s with size `n`. You can determine the size of the output array by setting the `size=` argument inside the `randint` function.\n"
   ]
  },
  {
   "cell_type": "code",
   "execution_count": 24,
   "id": "empirical-miller",
   "metadata": {},
   "outputs": [
    {
     "data": {
      "text/plain": [
       "array([1, 1, 1, 0, 1, 1, 1, 0, 1, 0])"
      ]
     },
     "execution_count": 24,
     "metadata": {},
     "output_type": "execute_result"
    }
   ],
   "source": [
    "np.random.randint(0, 2, size=10)"
   ]
  },
  {
   "cell_type": "code",
   "execution_count": null,
   "id": "dd52d174",
   "metadata": {},
   "outputs": [],
   "source": []
  },
  {
   "cell_type": "code",
   "execution_count": 59,
   "id": "civilian-timeline",
   "metadata": {},
   "outputs": [
    {
     "data": {
      "text/plain": [
       "(array([491.,   0.,   0.,   0.,   0.,   0.,   0.,   0.,   0., 509.]),\n",
       " array([0. , 0.1, 0.2, 0.3, 0.4, 0.5, 0.6, 0.7, 0.8, 0.9, 1. ]),\n",
       " <BarContainer object of 10 artists>)"
      ]
     },
     "execution_count": 59,
     "metadata": {},
     "output_type": "execute_result"
    },
    {
     "data": {
      "image/png": "[encoded data removed]",
      "text/plain": [
       "<Figure size 432x288 with 1 Axes>"
      ]
     },
     "metadata": {
      "needs_background": "light"
     },
     "output_type": "display_data"
    }
   ],
   "source": [
    "# 1000 coin flips\n",
    "A = np.random.randint(0, 2, size=1000)\n",
    "\n",
    "# make figure\n",
    "fig = plt.figure()\n",
    "\n",
    "# get the axes\n",
    "ax = plt.axes()\n",
    "\n",
    "# plot a histogram of the outcomes \n",
    "plt.hist(A)"
   ]
  },
  {
   "cell_type": "markdown",
   "id": "7092f6ff",
   "metadata": {},
   "source": [
    "## Example: The game is to guess how many pairs of people on average have the same birthday in a party of size N. \n"
   ]
  },
  {
   "cell_type": "code",
   "execution_count": 36,
   "id": "a575d2e1",
   "metadata": {},
   "outputs": [
    {
     "name": "stdout",
     "output_type": "stream",
     "text": [
      "[  10  110  210  310  410  510  610  710  810  910 1010 1110 1210 1310\n",
      " 1410 1510 1610 1710 1810 1910]\n",
      "[   0   14   73  135  193  335  543  697  875 1118 1451 1654 1967 2388\n",
      " 2705 3113 3653 3958 4549 4954]\n"
     ]
    },
    {
     "data": {
      "text/plain": [
       "[<matplotlib.lines.Line2D at 0x7f9d0830db50>]"
      ]
     },
     "execution_count": 36,
     "metadata": {},
     "output_type": "execute_result"
    },
    {
     "data": {
      "image/png": "[encoded data removed]",
      "text/plain": [
       "<Figure size 432x288 with 1 Axes>"
      ]
     },
     "metadata": {
      "needs_background": "light"
     },
     "output_type": "display_data"
    }
   ],
   "source": [
    "# calculate how many people share the same birthday \n",
    "    \n",
    "def calculate_matches(n):\n",
    "    outcome = np.random.randint(1, 366, size=n)\n",
    "    number_of_matches = 0\n",
    "    for i in range(n):\n",
    "        for j in range(i+1, n):\n",
    "            if outcome[i] == outcome[j]:\n",
    "                number_of_matches += 1\n",
    "    return number_of_matches\n",
    "            \n",
    "party_size = np.arange(10, 2000, 100)\n",
    "matches = np.zeros_like(party_size)\n",
    "\n",
    "# calculate for all different party sizes \n",
    "for i in range(len(party_size)):\n",
    "    matches[i] = calculate_matches(party_size[i])\n",
    "    \n",
    "print(party_size)\n",
    "print(matches)\n",
    "\n",
    "plt.plot(party_size, matches)\n",
    "\n",
    "# plot that number vs N "
   ]
  },
  {
   "cell_type": "markdown",
   "id": "advisory-howard",
   "metadata": {},
   "source": [
    "[Histogram](https://en.wikipedia.org/wiki/Histogram) (`hist`) is a plot that represents the **frequency** of a random variable which in our case is the outcome of 1000 coin flips. This specific kind of plot is also called a **distribution** function since it shows how the outcomes of a random event (coin flip) are **distributed** among the possible outcomes. As seen from the histogram the outcome multiple coin flips is not always equal numbers of `0`'s and `1`'s.\n",
    "\n",
    "## biased coin\n",
    "\n",
    "If our coin is biased, meaning that we get `0` with some probability $p$ (which is not necessarily $0.5$) and we get `1` with probability $1 - p$, then we can simulate it using the function `choice`. "
   ]
  },
  {
   "cell_type": "code",
   "execution_count": 1,
   "id": "standing-happiness",
   "metadata": {},
   "outputs": [
    {
     "ename": "NameError",
     "evalue": "name 'np' is not defined",
     "output_type": "error",
     "traceback": [
      "\u001b[0;31m---------------------------------------------------------------------------\u001b[0m",
      "\u001b[0;31mNameError\u001b[0m                                 Traceback (most recent call last)",
      "\u001b[0;32m/var/folders/dq/sdlls3r53tl8pfvg2x0y58jm0000gn/T/ipykernel_75454/1114467273.py\u001b[0m in \u001b[0;36m<module>\u001b[0;34m\u001b[0m\n\u001b[1;32m      1\u001b[0m \u001b[0;31m# a coin flip with p = 0.8\u001b[0m\u001b[0;34m\u001b[0m\u001b[0;34m\u001b[0m\u001b[0;34m\u001b[0m\u001b[0m\n\u001b[0;32m----> 2\u001b[0;31m \u001b[0mnp\u001b[0m\u001b[0;34m.\u001b[0m\u001b[0mrandom\u001b[0m\u001b[0;34m.\u001b[0m\u001b[0mchoice\u001b[0m\u001b[0;34m(\u001b[0m\u001b[0;34m[\u001b[0m\u001b[0;36m0\u001b[0m\u001b[0;34m,\u001b[0m \u001b[0;36m1\u001b[0m\u001b[0;34m]\u001b[0m\u001b[0;34m,\u001b[0m \u001b[0mp\u001b[0m\u001b[0;34m=\u001b[0m\u001b[0;34m[\u001b[0m\u001b[0;36m0.8\u001b[0m\u001b[0;34m,\u001b[0m \u001b[0;36m0.2\u001b[0m\u001b[0;34m]\u001b[0m\u001b[0;34m)\u001b[0m\u001b[0;34m\u001b[0m\u001b[0;34m\u001b[0m\u001b[0m\n\u001b[0m",
      "\u001b[0;31mNameError\u001b[0m: name 'np' is not defined"
     ]
    }
   ],
   "source": [
    "# a coin flip with p = 0.8 \n",
    "np.random.choice([0, 1], p=[0.8, 0.2])"
   ]
  },
  {
   "cell_type": "markdown",
   "id": "applicable-bouquet",
   "metadata": {},
   "source": [
    "If you run this command many times you can see that most of the times we get `0`'s and less frequently we get `1`'s. For generating multiple coin flips we can use the `size=` argument again. "
   ]
  },
  {
   "cell_type": "code",
   "execution_count": 67,
   "id": "liberal-crisis",
   "metadata": {},
   "outputs": [
    {
     "data": {
      "text/plain": [
       "(array([802.,   0.,   0.,   0.,   0.,   0.,   0.,   0.,   0., 198.]),\n",
       " array([0. , 0.1, 0.2, 0.3, 0.4, 0.5, 0.6, 0.7, 0.8, 0.9, 1. ]),\n",
       " <BarContainer object of 10 artists>)"
      ]
     },
     "execution_count": 67,
     "metadata": {},
     "output_type": "execute_result"
    },
    {
     "data": {
      "image/png": "[encoded data removed]",
      "text/plain": [
       "<Figure size 432x288 with 1 Axes>"
      ]
     },
     "metadata": {
      "needs_background": "light"
     },
     "output_type": "display_data"
    }
   ],
   "source": [
    "# 1000 biased coin flips with p = 0.8\n",
    "B = np.random.choice([0, 1], size=1000, p=[0.8, 0.2])\n",
    "\n",
    "plt.hist(B)"
   ]
  },
  {
   "cell_type": "markdown",
   "id": "joined-terminal",
   "metadata": {},
   "source": [
    "As seen from the plot the coin is not fair anymore and heads are more frequent than tails. \n",
    "\n",
    "## Binomial distribution\n",
    "\n",
    "[Binomial distribution](https://en.wikipedia.org/wiki/Binomial_distribution) describes the number of success events ($k$ heads) that one gets out of multiple Bernouli trials ($n$ coin flips or die rolls). As we saw in the lectures the formula representing the probabilities in the binomial distribution is as follows \n",
    "$$\n",
    "P(Z = k) = {n\\choose k} p^{k}(1-p)^{(n-k)}\n",
    "$$\n",
    "where $Z$ is our random variable denoting the number of success events. "
   ]
  },
  {
   "cell_type": "code",
   "execution_count": 74,
   "id": "leading-minnesota",
   "metadata": {},
   "outputs": [
    {
     "data": {
      "text/plain": [
       "5"
      ]
     },
     "execution_count": 74,
     "metadata": {},
     "output_type": "execute_result"
    }
   ],
   "source": [
    "# 10 coin flips each with success probability p = 0.5\n",
    "# the output is the number of heads out of 10 total coin flips \n",
    "np.random.binomial(10, 0.5)"
   ]
  },
  {
   "cell_type": "code",
   "execution_count": 81,
   "id": "friendly-spread",
   "metadata": {},
   "outputs": [
    {
     "data": {
      "text/plain": [
       "array([6, 4, 7, 4, 4])"
      ]
     },
     "execution_count": 81,
     "metadata": {},
     "output_type": "execute_result"
    }
   ],
   "source": [
    "# we can run the whole binomial experiment for multiple times using the \"size\" argument\n",
    "# this means that if we flip 10 coins for 5 different iterations \n",
    "# the output would be the number of heads in each iteration\n",
    "np.random.binomial(10, 0.5, size=5)"
   ]
  },
  {
   "cell_type": "code",
   "execution_count": 95,
   "id": "national-winter",
   "metadata": {},
   "outputs": [
    {
     "data": {
      "text/plain": [
       "(array([ 1.,  2.,  9.,  0., 22., 24.,  0., 27., 10.,  5.]),\n",
       " array([1. , 1.7, 2.4, 3.1, 3.8, 4.5, 5.2, 5.9, 6.6, 7.3, 8. ]),\n",
       " <BarContainer object of 10 artists>)"
      ]
     },
     "execution_count": 95,
     "metadata": {},
     "output_type": "execute_result"
    },
    {
     "data": {
      "image/png": "[encoded data removed]",
      "text/plain": [
       "<Figure size 432x288 with 1 Axes>"
      ]
     },
     "metadata": {
      "needs_background": "light"
     },
     "output_type": "display_data"
    }
   ],
   "source": [
    "# change the number of iterations (size), what do you observe as you increase the size? \n",
    "C = np.random.binomial(10, 0.5, size=100)\n",
    "\n",
    "plt.hist(C)"
   ]
  },
  {
   "cell_type": "markdown",
   "id": "facial-rochester",
   "metadata": {},
   "source": [
    "## Exercise: Law of large numbers\n",
    "\n",
    "In this exercise we are trying to understand what happens when we run a random trial (such as rolling a die) for a large number of times. \n",
    "\n",
    "1. use a function from `random` library to simulate a roll of an even die (with equal probabilities for 1,2,3,4,5, and 6). \n",
    "\n",
    "2. run the function for $n$ times and calculate the average of the numbers you get from those $n$ rolls of the die. \n",
    "\n",
    "3. repeat the previous step for different values of $n$ and store the average in an array (for example `avg_array`). \n",
    "\n",
    "4. plot the `avg_array` versus $n$. \n",
    "\n",
    "5. plot the theoretical expectation value of rolling a die. \n",
    "\n",
    "6. what do you observe? "
   ]
  },
  {
   "cell_type": "code",
   "execution_count": 18,
   "id": "median-difficulty",
   "metadata": {},
   "outputs": [
    {
     "data": {
      "text/plain": [
       "[<matplotlib.lines.Line2D at 0x7fb262a7ab50>]"
      ]
     },
     "execution_count": 18,
     "metadata": {},
     "output_type": "execute_result"
    },
    {
     "data": {
      "image/png": "[encoded data removed]",
      "text/plain": [
       "<Figure size 432x288 with 1 Axes>"
      ]
     },
     "metadata": {
      "needs_background": "light"
     },
     "output_type": "display_data"
    }
   ],
   "source": [
    "max_trials = 1000\n",
    "num_trials = np.arange(max_trials)\n",
    "avg_array = np.zeros_like(num_trials, dtype=np.double)\n",
    "\n",
    "for i in range(max_trials):\n",
    "    random_event = np.array(np.random.choice([1, 2, 3, 4, 5, 6], size=i+1))\n",
    "    avg_array[i] = np.average(random_event)\n",
    "\n",
    "plt.plot(num_trials, avg_array)"
   ]
  },
  {
   "cell_type": "code",
   "execution_count": null,
   "id": "romantic-allocation",
   "metadata": {},
   "outputs": [],
   "source": []
  },
  {
   "cell_type": "code",
   "execution_count": null,
   "id": "ba2e8e88",
   "metadata": {},
   "outputs": [],
   "source": []
  }
 ],
 "metadata": {
  "kernelspec": {
   "display_name": "Python 3 (ipykernel)",
   "language": "python",
   "name": "python3"
  },
  "language_info": {
   "codemirror_mode": {
    "name": "ipython",
    "version": 3
   },
   "file_extension": ".py",
   "mimetype": "text/x-python",
   "name": "python",
   "nbconvert_exporter": "python",
   "pygments_lexer": "ipython3",
   "version": "3.9.5"
  }
 },
 "nbformat": 4,
 "nbformat_minor": 5
}
