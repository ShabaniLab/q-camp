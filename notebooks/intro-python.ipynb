{
 "cells": [
  {
   "cell_type": "markdown",
   "id": "undefined-intensity",
   "metadata": {},
   "source": [
    "# Introduction to Python\n",
    "\n",
    "In this notebook we are going to learn about `python` programming language and its libraries that we will be using in the summer camp. \n",
    "\n",
    "### how to run a cell\n",
    "After selecting a cell, hit `Shift` + `Enter` to run the cell. "
   ]
  },
  {
   "cell_type": "markdown",
   "id": "assisted-lincoln",
   "metadata": {},
   "source": [
    "## Importing libraries\n",
    "Python relies on external libraries to do efficient work with numbers. Python itself provides some limited number of basic operations and variable types. But as we will see in the following using an external library such as `numpy` makes the life much easier. "
   ]
  },
  {
   "cell_type": "code",
   "execution_count": 31,
   "id": "finnish-waste",
   "metadata": {},
   "outputs": [
    {
     "name": "stdout",
     "output_type": "stream",
     "text": [
      "3.141592653589793\n",
      "2.718281828459045\n"
     ]
    }
   ],
   "source": [
    "import numpy as np \n",
    "# import numpy\n",
    "\n",
    "# this is a comment \n",
    "\n",
    "pi_number = np.pi\n",
    "print(pi_number)\n",
    "\n",
    "e_number = np.e\n",
    "print(e_number)"
   ]
  },
  {
   "cell_type": "markdown",
   "id": "tired-rings",
   "metadata": {},
   "source": [
    "## Printing a number in a string "
   ]
  },
  {
   "cell_type": "code",
   "execution_count": 32,
   "id": "conceptual-circuit",
   "metadata": {},
   "outputs": [
    {
     "name": "stdout",
     "output_type": "stream",
     "text": [
      "The Pi number is 3.14159\n",
      "The Euler number is 2.72\n"
     ]
    }
   ],
   "source": [
    "# float with specific number of decimals \n",
    "print(\"The Pi number is {0:.5f}\".format(pi_number))\n",
    "print(\"The Euler number is {0:.2f}\".format(e_number))"
   ]
  },
  {
   "cell_type": "code",
   "execution_count": 33,
   "id": "dedicated-professor",
   "metadata": {},
   "outputs": [
    {
     "name": "stdout",
     "output_type": "stream",
     "text": [
      "x is 3.07e+07\n"
     ]
    }
   ],
   "source": [
    "# scientific format with a given number of decimals \n",
    "x = 3074.1e4\n",
    "print(\"x is {0:.2e}\".format(x)) "
   ]
  },
  {
   "cell_type": "markdown",
   "id": "precious-electricity",
   "metadata": {},
   "source": [
    "## Arrays"
   ]
  },
  {
   "cell_type": "code",
   "execution_count": 66,
   "id": "decent-elite",
   "metadata": {
    "scrolled": true
   },
   "outputs": [
    {
     "name": "stdout",
     "output_type": "stream",
     "text": [
      "A is [ 0  3  7 -2]\n",
      "B is [0.  0.1 0.2 0.3 0.4 0.5 0.6 0.7 0.8 0.9 1. ]\n",
      "4\n",
      "11\n"
     ]
    }
   ],
   "source": [
    "# define an array manually \n",
    "A = np.array([0, 3, 7, -2])\n",
    "# print(A)\n",
    "print(\"A is \" + str(A))\n",
    "\n",
    "# define an array with linearly spaced components \n",
    "B = np.linspace(0, 1, num=11, endpoint=True)\n",
    "print(\"B is \" + str(B))\n",
    "\n",
    "# print the size of the array\n",
    "print(np.size(A))\n",
    "print(np.size(B))"
   ]
  },
  {
   "cell_type": "markdown",
   "id": "handmade-array",
   "metadata": {},
   "source": [
    "## functions "
   ]
  },
  {
   "cell_type": "code",
   "execution_count": 56,
   "id": "decent-tuesday",
   "metadata": {},
   "outputs": [
    {
     "name": "stdout",
     "output_type": "stream",
     "text": [
      "y is 4.0\n",
      "b is 6.0\n"
     ]
    }
   ],
   "source": [
    "# square \n",
    "x = 2.0 \n",
    "y = np.square(x) \n",
    "print(\"y is \" + str(y)) \n",
    "\n",
    "# square root\n",
    "a = 36\n",
    "b = np.sqrt(a)\n",
    "print(\"b is \" + str(b))"
   ]
  },
  {
   "cell_type": "code",
   "execution_count": 60,
   "id": "geological-hudson",
   "metadata": {},
   "outputs": [
    {
     "name": "stdout",
     "output_type": "stream",
     "text": [
      "4\n",
      "9\n",
      "[ 0  9 49  4]\n"
     ]
    }
   ],
   "source": [
    "# custom functions \n",
    "def my_function(x):\n",
    "    return x**2\n",
    "\n",
    "print(my_function(2))\n",
    "print(my_function(3))\n",
    "print(my_function(A))\n"
   ]
  },
  {
   "cell_type": "code",
   "execution_count": 67,
   "id": "lonely-hours",
   "metadata": {},
   "outputs": [
    {
     "name": "stdout",
     "output_type": "stream",
     "text": [
      "101\n",
      "101\n"
     ]
    }
   ],
   "source": [
    "def another_function(x):\n",
    "    return x**3 -3*x**2 + 2\n",
    "\n",
    "x = np.linspace(-2, 2, num=101)\n",
    "y = another_function(x)\n",
    "\n",
    "print(np.size(x))\n",
    "print(np.size(y))"
   ]
  },
  {
   "cell_type": "markdown",
   "id": "knowing-lucas",
   "metadata": {},
   "source": [
    "## plots \n",
    "To plot figures in python we are going to get help from another external library called `matplotlib` and import it in our code. "
   ]
  },
  {
   "cell_type": "code",
   "execution_count": 89,
   "id": "comprehensive-catalyst",
   "metadata": {},
   "outputs": [
    {
     "data": {
      "image/png": "[encoded data removed]",
      "text/plain": [
       "<Figure size 432x288 with 1 Axes>"
      ]
     },
     "metadata": {
      "needs_background": "light"
     },
     "output_type": "display_data"
    }
   ],
   "source": [
    "import matplotlib.pyplot as plt\n",
    "\n",
    "# make figure\n",
    "fig = plt.figure()\n",
    "\n",
    "# get the axes\n",
    "ax = plt.axes()\n",
    "\n",
    "# plot y array versus x array\n",
    "ax.plot(x, y)\n",
    "\n",
    "# labels \n",
    "ax.set_xlabel('the x axis')\n",
    "ax.set_ylabel('y = f(x)')\n",
    "\n",
    "# show the plot \n",
    "plt.show()"
   ]
  },
  {
   "cell_type": "code",
   "execution_count": null,
   "id": "polyphonic-dublin",
   "metadata": {},
   "outputs": [],
   "source": []
  }
 ],
 "metadata": {
  "kernelspec": {
   "display_name": "Python 3",
   "language": "python",
   "name": "python3"
  },
  "language_info": {
   "codemirror_mode": {
    "name": "ipython",
    "version": 3
   },
   "file_extension": ".py",
   "mimetype": "text/x-python",
   "name": "python",
   "nbconvert_exporter": "python",
   "pygments_lexer": "ipython3",
   "version": "3.8.5"
  }
 },
 "nbformat": 4,
 "nbformat_minor": 5
}
