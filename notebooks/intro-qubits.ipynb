{
 "cells": [
  {
   "cell_type": "markdown",
   "id": "dd2ba70b",
   "metadata": {},
   "source": [
    "# Introduction to qubits\n",
    "In this exercise we combine the notions of complex numbers, probability theory, and linear algebra to represent qubits in a quantum computer. \n",
    "\n",
    "First, let's make sure we have the `numpy` library imported. "
   ]
  },
  {
   "cell_type": "code",
   "execution_count": null,
   "id": "748a193e",
   "metadata": {},
   "outputs": [],
   "source": [
    "# your code"
   ]
  },
  {
   "cell_type": "markdown",
   "id": "66b0c872",
   "metadata": {},
   "source": [
    "## Exercise 1\n",
    "Define a complex-valued vector $|v\\rangle$ which will represent the state of $n$ qubits. Start with finding the size of the vector. How many components should $|v\\rangle$ have? Remember, for 1 qubit $|v\\rangle$ has 2 components (representing 0 and 1), for 2 qubits $|v\\rangle$ has 4 components (which represent 4 possibilities 00, 01, 10, and 11). You can define n as a variable, initialize it, and then write everything in terms of n. "
   ]
  },
  {
   "cell_type": "code",
   "execution_count": null,
   "id": "3c0634f5",
   "metadata": {},
   "outputs": [],
   "source": [
    "# n = \n",
    "# v = "
   ]
  },
  {
   "cell_type": "markdown",
   "id": "fbed454b",
   "metadata": {},
   "source": [
    "## Exercise 2\n",
    "Assign random numbers (let's say between 0 and 1) to the components of $|v\\rangle$. Now calculate the norm (magnitude) of $|v\\rangle$. Remeber that $|v\\rangle$ is a complex-valued vector so you need to be careful about implementing the definition of norm $\\sqrt{\\langle v|v\\rangle}$. Run the code multiple times. You should get different values each time. "
   ]
  },
  {
   "cell_type": "code",
   "execution_count": null,
   "id": "b23e3f9f",
   "metadata": {},
   "outputs": [],
   "source": [
    "# assign random numbers to v \n",
    "# calculate norm of v"
   ]
  },
  {
   "cell_type": "markdown",
   "id": "d110c315",
   "metadata": {},
   "source": [
    "## Exercise 3\n",
    "In quantum physics, state vectors (such as $|v\\rangle$) should be normalized, meaning that their norm should be equal to 1. Make sure every random vector your code generates has a norm equal to 1. "
   ]
  },
  {
   "cell_type": "code",
   "execution_count": 3,
   "id": "ea83bd55",
   "metadata": {},
   "outputs": [],
   "source": [
    "# normalize v "
   ]
  },
  {
   "cell_type": "markdown",
   "id": "bc0ec4e8",
   "metadata": {},
   "source": [
    "## Calculating Measurement Probabilities\n",
    "Now we will calculate the probabilities of finding qubits in a specific state. Let's go back to the 2 qubit example. The state vector $|v\\rangle$ has four components which represent 00, 01, 10, and 11, respectively. More clearly, for a generic $|v\\rangle$ we can write \n",
    "$$\n",
    "|v\\rangle = \\begin{pmatrix} a \\\\ b \\\\ c \\\\ d \\end{pmatrix}, \n",
    "$$\n",
    "and  \n",
    "$$ \n",
    "|00\\rangle = \\begin{pmatrix} 1 \\\\ 0 \\\\ 0 \\\\ 0 \\end{pmatrix},\\quad |01\\rangle = \\begin{pmatrix} 0 \\\\ 1 \\\\ 0 \\\\ 0 \\end{pmatrix},\\quad |10\\rangle = \\begin{pmatrix} 0 \\\\ 0 \\\\ 1 \\\\ 0 \\end{pmatrix},\\quad |11\\rangle = \\begin{pmatrix} 0 \\\\ 0 \\\\ 0 \\\\ 1 \\end{pmatrix}.\n",
    "$$\n",
    "Therefore, \n",
    "$$\n",
    "|v\\rangle = a |00\\rangle + b |01\\rangle + c |10\\rangle + d |11\\rangle. \n",
    "$$\n",
    "\n",
    "Now, if we measure this system of 2 qubits we will get 00 or 01 or 10 or 11 randomly. The probability of getting any of these values is dictated by components of $|v\\rangle$. The formal way of calculating these probabilities is by calculatign the **square of inner product** of the desired state, e.g. $|00\\rangle$ and the actual state $|v\\rangle$. For example, \n",
    "\n",
    "$$ \n",
    "\\textrm{Probability of measuring 00} = |\\langle 00|v\\rangle|^2, \n",
    "$$\n",
    "where \n",
    "$$\n",
    "\\langle 00|v\\rangle = (1, 0, 0, 0) \\begin{pmatrix} a \\\\ b \\\\ c \\\\ d \\end{pmatrix} = a. \n",
    "$$\n",
    "Therefore, \n",
    "\n",
    "$$ \n",
    "\\textrm{Probability of measuring 00} = |\\langle 00|v\\rangle|^2 = |a|^2 = aa^*.  \n",
    "$$"
   ]
  },
  {
   "cell_type": "markdown",
   "id": "cdb9861f",
   "metadata": {},
   "source": [
    "## Exercise 4\n",
    "Write a function that takes the state vector $|v\\rangle$ (which you defined before for a given n number of qubits) and prints out all the possible states along with their corresponding measurement probability. For example if $|v\\rangle$ has 4 components your function should print 00 and its probability and then in another line print 01 and its probability and so on. "
   ]
  },
  {
   "cell_type": "code",
   "execution_count": 4,
   "id": "3a819643",
   "metadata": {},
   "outputs": [],
   "source": [
    "# your code "
   ]
  }
 ],
 "metadata": {
  "kernelspec": {
   "display_name": "Python 3 (ipykernel)",
   "language": "python",
   "name": "python3"
  },
  "language_info": {
   "codemirror_mode": {
    "name": "ipython",
    "version": 3
   },
   "file_extension": ".py",
   "mimetype": "text/x-python",
   "name": "python",
   "nbconvert_exporter": "python",
   "pygments_lexer": "ipython3",
   "version": "3.9.5"
  }
 },
 "nbformat": 4,
 "nbformat_minor": 5
}
