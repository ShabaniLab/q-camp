{
 "cells": [
  {
   "cell_type": "markdown",
   "id": "dd2ba70b",
   "metadata": {},
   "source": [
    "# Introduction to qubits\n",
    "In this exercise we combine the notions of complex numbers, probability theory, and linear algebra to represent qubits in a quantum computer. \n",
    "\n",
    "First, let's make sure we have the `numpy` library imported. "
   ]
  },
  {
   "cell_type": "code",
   "execution_count": 1,
   "id": "748a193e",
   "metadata": {},
   "outputs": [],
   "source": [
    "import numpy as np"
   ]
  },
  {
   "cell_type": "markdown",
   "id": "66b0c872",
   "metadata": {},
   "source": [
    "## Exercise 1\n",
    "Define a complex-valued vector $|v\\rangle$ which will represent the state of $n$ qubits. Start with finding the size of the vector. How many components should $|v\\rangle$ have? Remember, for 1 qubit $|v\\rangle$ has 2 components (representing 0 and 1), for 2 qubits $|v\\rangle$ has 4 components (which represent 4 possibilities 00, 01, 10, and 11). You can define n as a variable, initialize it, and then write everything in terms of n. "
   ]
  },
  {
   "cell_type": "code",
   "execution_count": 2,
   "id": "3c0634f5",
   "metadata": {},
   "outputs": [
    {
     "name": "stdout",
     "output_type": "stream",
     "text": [
      "(16,)\n"
     ]
    }
   ],
   "source": [
    "n = 4\n",
    "dimension = 2**n\n",
    "v = np.zeros(dimension, dtype=np.complex128)\n",
    "print(np.shape(v))"
   ]
  },
  {
   "cell_type": "markdown",
   "id": "fbed454b",
   "metadata": {},
   "source": [
    "## Exercise 2\n",
    "Assign random numbers (let's say between 0 and 1) to the components of $|v\\rangle$. Now calculate the norm (magnitude) of $|v\\rangle$. Remeber that $|v\\rangle$ is a complex-valued vector so you need to be careful about implementing the definition of norm $\\sqrt{\\langle v|v\\rangle}$. Run the code multiple times. You should get different values each time. "
   ]
  },
  {
   "cell_type": "code",
   "execution_count": 59,
   "id": "b23e3f9f",
   "metadata": {},
   "outputs": [
    {
     "name": "stdout",
     "output_type": "stream",
     "text": [
      "(3.268100551559395+0j)\n"
     ]
    }
   ],
   "source": [
    "real = np.random.rand(dimension)\n",
    "imag = np.random.rand(dimension)\n",
    "v = real + 1j*imag\n",
    "\n",
    "# calculate norm of v\n",
    "def norm(v):\n",
    "    norm = np.sqrt(np.dot(np.conjugate(v), v))\n",
    "    return norm\n",
    "print(norm(v))"
   ]
  },
  {
   "cell_type": "markdown",
   "id": "d110c315",
   "metadata": {},
   "source": [
    "## Exercise 3\n",
    "In quantum physics, state vectors (such as $|v\\rangle$) should be normalized, meaning that their norm should be equal to 1. Make sure every random vector your code generates has a norm equal to 1. "
   ]
  },
  {
   "cell_type": "code",
   "execution_count": 68,
   "id": "ea83bd55",
   "metadata": {
    "scrolled": true
   },
   "outputs": [
    {
     "name": "stdout",
     "output_type": "stream",
     "text": [
      "[0.62982919+0.94564492j 0.96970026+0.15031256j 0.23395907+0.64154217j\n",
      " 0.40419586+0.11656623j 0.9251431 +0.04485872j 0.33798357+0.81202971j\n",
      " 0.36151925+0.44694751j 0.18448273+0.68893485j 0.45219997+0.10104955j\n",
      " 0.6918147 +0.15739621j 0.79806489+0.22881363j 0.74305334+0.92444299j\n",
      " 0.02460125+0.32877531j 0.50995205+0.03251995j 0.99684398+0.37569938j\n",
      " 0.7634096 +0.6412498j ]\n",
      "[0.19272026+0.28935613j 0.29671678+0.04599386j 0.0715887 +0.19630429j\n",
      " 0.12367914+0.03566788j 0.28308282+0.01372623j 0.10341896+0.24847146j\n",
      " 0.1106206 +0.13676064j 0.05644953+0.21080589j 0.13836783+0.03091996j\n",
      " 0.21168709+0.04816137j 0.24419839+0.07001426j 0.22736551+0.28286859j\n",
      " 0.00752769+0.10060135j 0.15603928+0.00995072j 0.30502243+0.11495955j\n",
      " 0.23359428+0.19621483j]\n",
      "(3.268100551559395+0j)\n",
      "(1+0j)\n"
     ]
    }
   ],
   "source": [
    "v_normalized = v/norm(v)\n",
    "print(v)\n",
    "print(v_normalized)\n",
    "print(norm(v))\n",
    "print(norm(v_normalized))"
   ]
  },
  {
   "cell_type": "markdown",
   "id": "bc0ec4e8",
   "metadata": {},
   "source": [
    "## Calculating Measurement Probabilities\n",
    "Now we will calculate the probabilities of finding qubits in a specific state. Let's go back to the 2 qubit example. The state vector $|v\\rangle$ has four components which represent 00, 01, 10, and 11, respectively. More clearly, for a generic $|v\\rangle$ we can write \n",
    "$$\n",
    "|v\\rangle = \\begin{pmatrix} a \\\\ b \\\\ c \\\\ d \\end{pmatrix}, \n",
    "$$\n",
    "and  \n",
    "$$ \n",
    "|00\\rangle = \\begin{pmatrix} 1 \\\\ 0 \\\\ 0 \\\\ 0 \\end{pmatrix},\\quad |01\\rangle = \\begin{pmatrix} 0 \\\\ 1 \\\\ 0 \\\\ 0 \\end{pmatrix},\\quad |10\\rangle = \\begin{pmatrix} 0 \\\\ 0 \\\\ 1 \\\\ 0 \\end{pmatrix},\\quad |11\\rangle = \\begin{pmatrix} 0 \\\\ 0 \\\\ 0 \\\\ 1 \\end{pmatrix}.\n",
    "$$\n",
    "Therefore, \n",
    "$$\n",
    "|v\\rangle = a |00\\rangle + b |01\\rangle + c |10\\rangle + d |11\\rangle. \n",
    "$$\n",
    "\n",
    "Now, if we measure this system of 2 qubits we will get 00 or 01 or 10 or 11 randomly. The probability of getting any of these values is dictated by components of $|v\\rangle$. The formal way of calculating these probabilities is by calculatign the **square of inner product** of the desired state, e.g. $|00\\rangle$ and the actual state $|v\\rangle$. For example, \n",
    "\n",
    "$$ \n",
    "\\textrm{Probability of measuring 00} = |\\langle 00|v\\rangle|^2, \n",
    "$$\n",
    "where \n",
    "$$\n",
    "\\langle 00|v\\rangle = (1, 0, 0, 0) \\begin{pmatrix} a \\\\ b \\\\ c \\\\ d \\end{pmatrix} = a. \n",
    "$$\n",
    "Therefore, \n",
    "\n",
    "$$ \n",
    "\\textrm{Probability of measuring 00} = |\\langle 00|v\\rangle|^2 = |a|^2 = aa^*.  \n",
    "$$"
   ]
  },
  {
   "cell_type": "markdown",
   "id": "cdb9861f",
   "metadata": {},
   "source": [
    "## Exercise 4\n",
    "Write a function that takes the state vector $|v\\rangle$ (which you defined before for a given n number of qubits) and prints out all the possible states along with their corresponding measurement probability. For example if $|v\\rangle$ has 4 components your function should print 00 and its probability and then in another line print 01 and its probability and so on. "
   ]
  },
  {
   "cell_type": "code",
   "execution_count": 92,
   "id": "3a819643",
   "metadata": {},
   "outputs": [],
   "source": [
    "def print_probabilities(v):\n",
    "    sum = 0\n",
    "    for i in range(len(v)):\n",
    "        p = abs(np.conjugate(v[i])*v[i])\n",
    "        sum = sum + p\n",
    "        print(\"state: {0:04b}\".format(i) + \", p = {0:.4f}\".format(p))\n",
    "    print(\"total probability = {0:.4f}\".format(sum))"
   ]
  },
  {
   "cell_type": "code",
   "execution_count": 93,
   "id": "36b6af60",
   "metadata": {},
   "outputs": [
    {
     "name": "stdout",
     "output_type": "stream",
     "text": [
      "state: 0000, p = 0.1209\n",
      "state: 0001, p = 0.0902\n",
      "state: 0010, p = 0.0437\n",
      "state: 0011, p = 0.0166\n",
      "state: 0100, p = 0.0803\n",
      "state: 0101, p = 0.0724\n",
      "state: 0110, p = 0.0309\n",
      "state: 0111, p = 0.0476\n",
      "state: 1000, p = 0.0201\n",
      "state: 1001, p = 0.0471\n",
      "state: 1010, p = 0.0645\n",
      "state: 1011, p = 0.1317\n",
      "state: 1100, p = 0.0102\n",
      "state: 1101, p = 0.0244\n",
      "state: 1110, p = 0.1063\n",
      "state: 1111, p = 0.0931\n",
      "total probability = 1.0000\n"
     ]
    }
   ],
   "source": [
    "print_probabilities(v_normalized)"
   ]
  },
  {
   "cell_type": "markdown",
   "id": "131baa78",
   "metadata": {},
   "source": [
    "## Example\n",
    "plot the probabilities vs the state in a bar plot "
   ]
  },
  {
   "cell_type": "code",
   "execution_count": 120,
   "id": "5ae03003",
   "metadata": {},
   "outputs": [
    {
     "data": {
      "text/plain": [
       "([0, 1, 2, 3, 4, 5, 6, 7, 8, 9, 10, 11, 12, 13, 14, 15],\n",
       " [Text(0, 0, ''),\n",
       "  Text(0, 0, ''),\n",
       "  Text(0, 0, ''),\n",
       "  Text(0, 0, ''),\n",
       "  Text(0, 0, ''),\n",
       "  Text(0, 0, ''),\n",
       "  Text(0, 0, ''),\n",
       "  Text(0, 0, ''),\n",
       "  Text(0, 0, ''),\n",
       "  Text(0, 0, ''),\n",
       "  Text(0, 0, ''),\n",
       "  Text(0, 0, ''),\n",
       "  Text(0, 0, ''),\n",
       "  Text(0, 0, ''),\n",
       "  Text(0, 0, ''),\n",
       "  Text(0, 0, '')])"
      ]
     },
     "execution_count": 120,
     "metadata": {},
     "output_type": "execute_result"
    },
    {
     "data": {
      "image/png": "[encoded data removed]",
      "text/plain": [
       "<Figure size 432x288 with 1 Axes>"
      ]
     },
     "metadata": {
      "needs_background": "light"
     },
     "output_type": "display_data"
    }
   ],
   "source": [
    "import matplotlib.pyplot as plt\n",
    "\n",
    "states = []\n",
    "for i in range(len(v)):\n",
    "    s = \"{0:04b}\".format(i)\n",
    "    states.append(s)\n",
    "\n",
    "prob = list(np.real(np.conjugate(v_normalized)*v_normalized))\n",
    "    \n",
    "plt.bar(states, v)\n",
    "plt.xticks(rotation=45)"
   ]
  },
  {
   "cell_type": "markdown",
   "id": "fcf617ef",
   "metadata": {},
   "source": [
    "## Example:\n",
    "come up with a state vector that represents entangled qubits, meaning that either all are zero or all are one. Remember to normalize your vector. This is called a GHZ state or Bell State. Plot the states agian. \n"
   ]
  },
  {
   "cell_type": "code",
   "execution_count": 11,
   "id": "184a8c6a",
   "metadata": {},
   "outputs": [],
   "source": [
    "v = np.zeros(dimension, dtype=np.complex128)\n",
    "v[0] = 1/np.sqrt(2)\n",
    "v[-1] = 1/np.sqrt(2)"
   ]
  },
  {
   "cell_type": "code",
   "execution_count": 17,
   "id": "36f6e575",
   "metadata": {},
   "outputs": [
    {
     "data": {
      "text/plain": [
       "([0, 1, 2, 3, 4, 5, 6, 7, 8, 9, 10, 11, 12, 13, 14, 15],\n",
       " [Text(0, 0, ''),\n",
       "  Text(0, 0, ''),\n",
       "  Text(0, 0, ''),\n",
       "  Text(0, 0, ''),\n",
       "  Text(0, 0, ''),\n",
       "  Text(0, 0, ''),\n",
       "  Text(0, 0, ''),\n",
       "  Text(0, 0, ''),\n",
       "  Text(0, 0, ''),\n",
       "  Text(0, 0, ''),\n",
       "  Text(0, 0, ''),\n",
       "  Text(0, 0, ''),\n",
       "  Text(0, 0, ''),\n",
       "  Text(0, 0, ''),\n",
       "  Text(0, 0, ''),\n",
       "  Text(0, 0, '')])"
      ]
     },
     "execution_count": 17,
     "metadata": {},
     "output_type": "execute_result"
    },
    {
     "data": {
      "image/png": "[encoded data removed]",
      "text/plain": [
       "<Figure size 432x288 with 1 Axes>"
      ]
     },
     "metadata": {
      "needs_background": "light"
     },
     "output_type": "display_data"
    }
   ],
   "source": [
    "import matplotlib.pyplot as plt\n",
    "\n",
    "v_normalized = v\n",
    "states = []\n",
    "for i in range(len(v)):\n",
    "    s = \"{0:04b}\".format(i)\n",
    "    states.append(s)\n",
    "\n",
    "prob = list(np.real(np.conjugate(v_normalized)*v_normalized))\n",
    "    \n",
    "plt.bar(states, prob)\n",
    "plt.xticks(rotation=45)"
   ]
  },
  {
   "cell_type": "markdown",
   "id": "8a82a939",
   "metadata": {},
   "source": [
    "## Exercise 5\n",
    "write a function that takes two vectors as input and returns their tensor product. "
   ]
  },
  {
   "cell_type": "code",
   "execution_count": 23,
   "id": "9fefb008",
   "metadata": {},
   "outputs": [
    {
     "name": "stdout",
     "output_type": "stream",
     "text": [
      "[ 0.6  0.7  0.8 -0.6 -0.7 -0.8  1.2  1.4  1.6]\n"
     ]
    }
   ],
   "source": [
    "def tensor_product(u, v):\n",
    "    prod = np.zeros(len(u)*len(v))\n",
    "    for i in range(len(u)):\n",
    "        prod[i*len(v):(i+1)*len(v)] = u[i]*v\n",
    "    return prod\n",
    "\n",
    "u = np.array([1, -1, 2])\n",
    "v = np.array([0.6, 0.7, 0.8])\n",
    "print(tensor_product(u, v))"
   ]
  },
  {
   "cell_type": "markdown",
   "id": "ba8707fb",
   "metadata": {},
   "source": [
    "## Exercise 6 \n",
    "Write a function that calculates the tensor product of two matrices. "
   ]
  },
  {
   "cell_type": "code",
   "execution_count": 29,
   "id": "a1f67a4a",
   "metadata": {},
   "outputs": [
    {
     "name": "stdout",
     "output_type": "stream",
     "text": [
      "[[ 0.  0.  1.  0.]\n",
      " [ 0.  0.  0. -1.]\n",
      " [ 1.  0.  0.  0.]\n",
      " [ 0. -1.  0.  0.]]\n"
     ]
    }
   ],
   "source": [
    "def tensor_product(A, B):\n",
    "    m = np.shape(A)[0]\n",
    "    n = np.shape(A)[1]\n",
    "    r = np.shape(B)[0]\n",
    "    p = np.shape(B)[1]\n",
    "    prod = np.zeros((m*r, n*p))\n",
    "    for i in range(m):\n",
    "        for j in range(n):\n",
    "            prod[i*r:(i+1)*r, j*p:(j+1)*p] = A[i, j]*B\n",
    "    return prod\n",
    "\n",
    "X = np.array([[0, 1], [1, 0]])\n",
    "Z = np.array([[1, 0], [0, -1]])\n",
    "print(tensor_product(X, Z))"
   ]
  },
  {
   "cell_type": "markdown",
   "id": "761de3ea",
   "metadata": {},
   "source": [
    "## Exercise 7\n",
    "Write a function that takes a 2x2 matrix and breaks it down into a linear combination of Pauli matrices, e.g. X, Y, Z, I and prints the result. "
   ]
  },
  {
   "cell_type": "code",
   "execution_count": 3,
   "id": "59f42cce",
   "metadata": {},
   "outputs": [
    {
     "name": "stdout",
     "output_type": "stream",
     "text": [
      "0.0X + -1jY + 2.0Z + -1.0I\n"
     ]
    }
   ],
   "source": [
    "import numpy as np\n",
    "def print_pauli(A):\n",
    "    c1 = (A[0, 1] + A[1, 0])/2\n",
    "    c2 = (A[0, 1] - A[1, 0])/(2j)\n",
    "    c3 = (A[0, 0] + A[1, 1])/2\n",
    "    c4 = (A[0, 0] - A[1, 1])/2\n",
    "    print(f\"{c1}X + {c2}Y + {c3}Z + {c4}I\")\n",
    "    \n",
    "M = np.array([[1, 1], [-1, 3]])\n",
    "print_pauli(M)"
   ]
  },
  {
   "cell_type": "code",
   "execution_count": null,
   "id": "332372a3",
   "metadata": {},
   "outputs": [],
   "source": []
  }
 ],
 "metadata": {
  "kernelspec": {
   "display_name": "Python 3 (ipykernel)",
   "language": "python",
   "name": "python3"
  },
  "language_info": {
   "codemirror_mode": {
    "name": "ipython",
    "version": 3
   },
   "file_extension": ".py",
   "mimetype": "text/x-python",
   "name": "python",
   "nbconvert_exporter": "python",
   "pygments_lexer": "ipython3",
   "version": "3.9.5"
  }
 },
 "nbformat": 4,
 "nbformat_minor": 5
}
