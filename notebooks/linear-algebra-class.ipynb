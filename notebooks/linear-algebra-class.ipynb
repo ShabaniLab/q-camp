{
 "cells": [
  {
   "cell_type": "markdown",
   "id": "cbdc0bf9",
   "metadata": {},
   "source": [
    "# Linear Algebra"
   ]
  },
  {
   "cell_type": "markdown",
   "id": "3aec1c20",
   "metadata": {},
   "source": [
    "## Defining vectors"
   ]
  },
  {
   "cell_type": "code",
   "execution_count": 2,
   "id": "21c9734f",
   "metadata": {
    "scrolled": true
   },
   "outputs": [
    {
     "name": "stdout",
     "output_type": "stream",
     "text": [
      "[1 1]\n",
      "[[1]\n",
      " [1]]\n",
      "[ 0.  -1.   2.   3.  -0.3]\n",
      "[0. 0. 0. 0. 0.]\n",
      "[[0.]\n",
      " [0.]\n",
      " [0.]\n",
      " [0.]\n",
      " [0.]]\n"
     ]
    }
   ],
   "source": [
    "import numpy as np\n",
    "\n",
    "v = np.array([1, 1])\n",
    "v2 = np.array([[1], [1]])\n",
    "u = np.array([0, -1, 2, 3, -0.3])\n",
    "r = np.zeros(5)\n",
    "r2 = np.zeros((5, 1))\n",
    "\n",
    "print(v)\n",
    "print(v2)\n",
    "print(u)\n",
    "print(r)\n",
    "print(r2)"
   ]
  },
  {
   "cell_type": "markdown",
   "id": "542970de",
   "metadata": {},
   "source": [
    "## Access specific values, slicing"
   ]
  },
  {
   "cell_type": "code",
   "execution_count": 3,
   "id": "7ce7ec0d",
   "metadata": {},
   "outputs": [
    {
     "name": "stdout",
     "output_type": "stream",
     "text": [
      "3.0\n",
      "[ 0. -1.  2.]\n",
      "[ 3.  -0.3]\n"
     ]
    }
   ],
   "source": [
    "print(u[3])\n",
    "u2 = u[:3]\n",
    "print(u2)\n",
    "u3 = u[3:]\n",
    "print(u3)"
   ]
  },
  {
   "cell_type": "markdown",
   "id": "b485d400",
   "metadata": {},
   "source": [
    "### Example: write a function that takes a vector as input and returns the norm (magnitude/size) of the vector. "
   ]
  },
  {
   "cell_type": "code",
   "execution_count": 4,
   "id": "c8c8dda2",
   "metadata": {},
   "outputs": [
    {
     "name": "stdout",
     "output_type": "stream",
     "text": [
      "4.0\n"
     ]
    }
   ],
   "source": [
    "def norm(x):    \n",
    "    sum = 0\n",
    "    for val in x:\n",
    "        sum = sum + val**2\n",
    "    return np.sqrt(sum)  \n",
    "\n",
    "v = np.array([3, -1, 0, 1, 2, -1]) \n",
    "v_norm = norm(v) \n",
    "print(v_norm)\n"
   ]
  },
  {
   "cell_type": "markdown",
   "id": "034183b2",
   "metadata": {},
   "source": [
    "### Example: write a function that takes two vectors as input and returns their dot product. "
   ]
  },
  {
   "cell_type": "code",
   "execution_count": 19,
   "id": "a70154ac",
   "metadata": {},
   "outputs": [
    {
     "name": "stdout",
     "output_type": "stream",
     "text": [
      "-3.6\n"
     ]
    }
   ],
   "source": [
    "def dot_product(x, y):\n",
    "    sum = 0\n",
    "    for i in range(len(x)):\n",
    "        sum = sum + x[i]*y[i]\n",
    "    return sum \n",
    "\n",
    "v = np.array([3, -1, 0, 1, 2, -1]) \n",
    "u = np.array([1, 2, 3, -4, 0.2, 1]) \n",
    "print(dot_product(u, v))"
   ]
  },
  {
   "cell_type": "code",
   "execution_count": 6,
   "id": "e24e37b3",
   "metadata": {},
   "outputs": [
    {
     "name": "stdout",
     "output_type": "stream",
     "text": [
      "3.3166247903554\n"
     ]
    }
   ],
   "source": [
    "v = np.array([1, -1, 3])\n",
    "print(norm(v))"
   ]
  },
  {
   "cell_type": "code",
   "execution_count": 7,
   "id": "47e55632",
   "metadata": {},
   "outputs": [
    {
     "name": "stdout",
     "output_type": "stream",
     "text": [
      "11\n"
     ]
    }
   ],
   "source": [
    "print(dot_product(v, v))"
   ]
  },
  {
   "cell_type": "code",
   "execution_count": 8,
   "id": "fac5afa4",
   "metadata": {},
   "outputs": [
    {
     "name": "stdout",
     "output_type": "stream",
     "text": [
      "3.3166247903554\n"
     ]
    }
   ],
   "source": [
    "print(np.sqrt(dot_product(v, v)))"
   ]
  },
  {
   "cell_type": "code",
   "execution_count": 16,
   "id": "74e19e8e",
   "metadata": {},
   "outputs": [
    {
     "name": "stdout",
     "output_type": "stream",
     "text": [
      "[[0 1]\n",
      " [1 0]]\n",
      "[[ 1.   3.   1. ]\n",
      " [ 0.  -0.4  5. ]]\n",
      "[[ 2.  -1.   2.   7. ]\n",
      " [-1.1  3.3  4.   0.7]\n",
      " [ 9.  -8.   2.   0. ]]\n",
      "(2, 3)\n"
     ]
    }
   ],
   "source": [
    "X = np.array([[0, 1], [1, 0]])\n",
    "print(X)\n",
    "\n",
    "Y = np.array([[1, 3, 1], [0, -0.4, 5]])\n",
    "print(Y)\n",
    "\n",
    "Z = np.array([[2, -1, 2, 7],[-1.1, 3.3, 4, 0.7],[9, -8, 2, 0]])\n",
    "print(Z)\n",
    "\n",
    "print(np.shape(Y))\n"
   ]
  },
  {
   "cell_type": "markdown",
   "id": "a833a0f0",
   "metadata": {},
   "source": [
    "## Example: write a function that multiplies two matrices A and B given as input and returns the resulting matrix. "
   ]
  },
  {
   "cell_type": "code",
   "execution_count": 28,
   "id": "8dc1c4f3",
   "metadata": {},
   "outputs": [
    {
     "name": "stdout",
     "output_type": "stream",
     "text": [
      "[[-13.]\n",
      " [-32.]]\n"
     ]
    }
   ],
   "source": [
    "def mult(A, B):\n",
    "    \n",
    "    C = np.zeros((np.shape(A)[0], np.shape(B)[1]))\n",
    "    \n",
    "    if np.shape(A)[1] == np.shape(B)[0]:\n",
    "        for i in range(np.shape(A)[0]):\n",
    "            row = A[i, :]\n",
    "            for j in range(np.shape(B)[1]):\n",
    "                col = B[:, j]\n",
    "                C[i, j] = dot_product(row, col)\n",
    "    else:\n",
    "        raise ValueError(\"dimensions do not match!\") \n",
    "    \n",
    "    return C\n",
    "\n",
    "X = np.array([[0, 1, 3], [2, 4, 8]])\n",
    "Y = np.array([[0], [2], [-5]])\n",
    "print(mult(X, Y))"
   ]
  },
  {
   "cell_type": "markdown",
   "id": "266cedb6",
   "metadata": {},
   "source": [
    "## Example: write a function that tells if matrices A and B are equal"
   ]
  },
  {
   "cell_type": "code",
   "execution_count": 31,
   "id": "964a20cc",
   "metadata": {},
   "outputs": [
    {
     "name": "stdout",
     "output_type": "stream",
     "text": [
      "True\n"
     ]
    }
   ],
   "source": [
    "def equal(A, B):\n",
    "    \n",
    "    if np.shape(A)[0] != np.shape(B)[0]:\n",
    "        return False\n",
    "    \n",
    "    if np.shape(A)[1] != np.shape(B)[1]:\n",
    "        return False\n",
    "    \n",
    "    for i in range(np.shape(A)[0]):\n",
    "        for j in range(np.shape(A)[1]):\n",
    "            if A[i, j] != B[i, j]:\n",
    "                return False\n",
    "    \n",
    "    return True\n",
    "\n",
    "print(equal(X, X))"
   ]
  },
  {
   "cell_type": "markdown",
   "id": "925ba19c",
   "metadata": {},
   "source": [
    "## Example: write a function that calculates transpose of matrix A"
   ]
  },
  {
   "cell_type": "code",
   "execution_count": 43,
   "id": "6041f702",
   "metadata": {},
   "outputs": [
    {
     "name": "stdout",
     "output_type": "stream",
     "text": [
      "[[ 1.+0.j -1.+0.j]\n",
      " [ 3.+0.j  2.+0.j]\n",
      " [ 0.+0.j  4.+0.j]]\n"
     ]
    }
   ],
   "source": [
    "def transpose(A):\n",
    "    A_T = np.zeros((np.shape(A)[1], np.shape(A)[0]), dtype=np.complex128)\n",
    "\n",
    "    for i in range(np.shape(A)[0]):\n",
    "        for j in range(np.shape(A)[1]): \n",
    "            A_T[j, i] = A[i, j]\n",
    "    \n",
    "    return A_T\n",
    "\n",
    "print(transpose(np.array([[1, 3, 0], [-1, 2, 4]], dtype=np.complex128)))"
   ]
  },
  {
   "cell_type": "markdown",
   "id": "835dced2",
   "metadata": {},
   "source": [
    "## Example: write a function that calculates the conjugate of matrix A"
   ]
  },
  {
   "cell_type": "code",
   "execution_count": 46,
   "id": "04ef500d",
   "metadata": {},
   "outputs": [
    {
     "name": "stdout",
     "output_type": "stream",
     "text": [
      "[[1.-0.j 1.+1.j]\n",
      " [0.-3.j 2.-0.j]\n",
      " [0.-0.j 4.-0.j]]\n"
     ]
    }
   ],
   "source": [
    "def conjugate(A):\n",
    "    A_C = np.zeros_like(A, dtype=np.complex128)\n",
    "    \n",
    "    for i in range(np.shape(A)[0]):\n",
    "        for j in range(np.shape(A)[1]):\n",
    "            A_C[i, j] = np.conjugate(A[i, j])\n",
    "    return A_C\n",
    "\n",
    "A = np.array([[1, 3j, 0], [-1j + 1, 2, 4]], dtype=np.complex128)\n",
    "print(conjugate(transpose(A)))"
   ]
  },
  {
   "cell_type": "markdown",
   "id": "777be650",
   "metadata": {},
   "source": [
    "## Example: write a function that tells if matrix A is Hermitian"
   ]
  },
  {
   "cell_type": "code",
   "execution_count": 49,
   "id": "6c5dba63",
   "metadata": {},
   "outputs": [
    {
     "name": "stdout",
     "output_type": "stream",
     "text": [
      "False\n",
      "True\n"
     ]
    }
   ],
   "source": [
    "def is_hermitian(A):\n",
    "    A_TC = conjugate(transpose(A))\n",
    "    return equal(A, A_TC)\n",
    "\n",
    "print(is_hermitian(A))\n",
    "\n",
    "B = np.array([[2, 1 + 1j], [1 - 1j, 3]])\n",
    "print(is_hermitian(B))"
   ]
  },
  {
   "cell_type": "code",
   "execution_count": null,
   "id": "937ccea0",
   "metadata": {},
   "outputs": [],
   "source": []
  }
 ],
 "metadata": {
  "kernelspec": {
   "display_name": "Python 3 (ipykernel)",
   "language": "python",
   "name": "python3"
  },
  "language_info": {
   "codemirror_mode": {
    "name": "ipython",
    "version": 3
   },
   "file_extension": ".py",
   "mimetype": "text/x-python",
   "name": "python",
   "nbconvert_exporter": "python",
   "pygments_lexer": "ipython3",
   "version": "3.9.5"
  }
 },
 "nbformat": 4,
 "nbformat_minor": 5
}
