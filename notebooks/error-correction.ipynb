{
 "cells": [
  {
   "cell_type": "markdown",
   "id": "67e9a01b",
   "metadata": {},
   "source": [
    "# Quantum Error Correction"
   ]
  },
  {
   "cell_type": "markdown",
   "id": "d0233147",
   "metadata": {},
   "source": [
    "## Classical repetition code\n",
    "\n",
    "calculate the probability of error for a repetition code of size 3 and plot the values versus the probability of single bit flip `p`. "
   ]
  },
  {
   "cell_type": "code",
   "execution_count": 67,
   "id": "94fb27b4",
   "metadata": {},
   "outputs": [
    {
     "data": {
      "text/plain": [
       "<matplotlib.legend.Legend at 0x7f8db0781070>"
      ]
     },
     "execution_count": 67,
     "metadata": {},
     "output_type": "execute_result"
    },
    {
     "data": {
      "image/png": "[encoded data removed]",
      "text/plain": [
       "<Figure size 432x288 with 1 Axes>"
      ]
     },
     "metadata": {
      "needs_background": "light"
     },
     "output_type": "display_data"
    }
   ],
   "source": [
    "import numpy as np \n",
    "import matplotlib.pyplot as plt \n",
    "\n",
    "def error_rate_3bit(p):\n",
    "    \n",
    "    return p**3 + 3*p**2*(1-p)\n",
    "\n",
    "p_vals = np.linspace(0, 1, num=100)\n",
    "\n",
    "plt.plot(p_vals, 1 - error_rate_3bit(p_vals), label='3bit no error')\n",
    "# plt.plot(p_vals, error_rate_3bit(p_vals), label='3bit error')\n",
    "plt.plot(p_vals, 1 - p_vals, label='1bit no error')\n",
    "# plt.plot(p_vals, p_vals, label='1bit error')\n",
    "plt.xlabel(\"single bit error p\")\n",
    "plt.legend()"
   ]
  },
  {
   "cell_type": "markdown",
   "id": "386e1a7a",
   "metadata": {},
   "source": [
    "## Quantum bit flip correction\n",
    "\n",
    "write a function that takes the number of total qubits and returns the circuit that entangles the first qubit with the other qubits. "
   ]
  },
  {
   "cell_type": "code",
   "execution_count": 68,
   "id": "37f046f3",
   "metadata": {},
   "outputs": [
    {
     "data": {
      "text/html": [
       "<pre style=\"word-wrap: normal;white-space: pre;background: #fff0;line-height: 1.1;font-family: &quot;Courier New&quot;,Courier,monospace\">     ┌───┐          \n",
       "q_0: ┤ H ├──■───────\n",
       "     └───┘┌─┴─┐     \n",
       "q_1: ─────┤ X ├──■──\n",
       "          └───┘┌─┴─┐\n",
       "q_2: ──────────┤ X ├\n",
       "               └───┘\n",
       "c: 3/═══════════════\n",
       "                    </pre>"
      ],
      "text/plain": [
       "     ┌───┐          \n",
       "q_0: ┤ H ├──■───────\n",
       "     └───┘┌─┴─┐     \n",
       "q_1: ─────┤ X ├──■──\n",
       "          └───┘┌─┴─┐\n",
       "q_2: ──────────┤ X ├\n",
       "               └───┘\n",
       "c: 3/═══════════════\n",
       "                    "
      ]
     },
     "execution_count": 68,
     "metadata": {},
     "output_type": "execute_result"
    }
   ],
   "source": [
    "from qiskit import * \n",
    "\n",
    "def bit_flip_correction(num_qubits):\n",
    "    \n",
    "    circ = QuantumCircuit(num_qubits, num_qubits)\n",
    "    circ.h(0)\n",
    "    for i in range(num_qubits - 1):\n",
    "        circ.cx(i, i+1)\n",
    "    return circ\n",
    "\n",
    "circuit = bit_flip_correction(3)\n",
    "circuit.draw()\n",
    "\n"
   ]
  },
  {
   "cell_type": "code",
   "execution_count": 19,
   "id": "abc643a6",
   "metadata": {},
   "outputs": [
    {
     "name": "stdout",
     "output_type": "stream",
     "text": [
      "[0.70710678+0.j 0.        +0.j 0.        +0.j 0.        +0.j\n",
      " 0.        +0.j 0.        +0.j 0.        +0.j 0.70710678+0.j]\n"
     ]
    }
   ],
   "source": [
    "backend = Aer.get_backend('statevector_simulator')\n",
    "job = execute(circuit, backend)\n",
    "results = job.result()\n",
    "psi = results.get_statevector(circuit)\n",
    "print(psi)"
   ]
  },
  {
   "cell_type": "markdown",
   "id": "d0a32a2e",
   "metadata": {},
   "source": [
    "## modeling bit flip error \n",
    "\n",
    "Modify your function to include an X gate with probability p."
   ]
  },
  {
   "cell_type": "code",
   "execution_count": 66,
   "id": "a883a8f2",
   "metadata": {
    "scrolled": true
   },
   "outputs": [
    {
     "data": {
      "text/html": [
       "<pre style=\"word-wrap: normal;white-space: pre;background: #fff0;line-height: 1.1;font-family: &quot;Courier New&quot;,Courier,monospace\">     ┌───┐          \n",
       "q_0: ┤ H ├──■───────\n",
       "     └───┘┌─┴─┐     \n",
       "q_1: ─────┤ X ├──■──\n",
       "          └───┘┌─┴─┐\n",
       "q_2: ──────────┤ X ├\n",
       "               └───┘\n",
       "c: 3/═══════════════\n",
       "                    </pre>"
      ],
      "text/plain": [
       "     ┌───┐          \n",
       "q_0: ┤ H ├──■───────\n",
       "     └───┘┌─┴─┐     \n",
       "q_1: ─────┤ X ├──■──\n",
       "          └───┘┌─┴─┐\n",
       "q_2: ──────────┤ X ├\n",
       "               └───┘\n",
       "c: 3/═══════════════\n",
       "                    "
      ]
     },
     "execution_count": 66,
     "metadata": {},
     "output_type": "execute_result"
    }
   ],
   "source": [
    "def bit_flip_correction_noisy(num_qubits, p):\n",
    "        \n",
    "    apply_error = np.random.binomial(1, p)\n",
    "    circ = QuantumCircuit(num_qubits, num_qubits)\n",
    "    circ.h(0)\n",
    "    for i in range(num_qubits - 1):\n",
    "        circ.cx(i, i+1) \n",
    "    if apply_error == 1:\n",
    "        circ.x(0)\n",
    "    return circ\n",
    "\n",
    "circuit = bit_flip_correction_noisy(3, 0.25)\n",
    "circuit.draw()"
   ]
  },
  {
   "cell_type": "markdown",
   "id": "cad5565e",
   "metadata": {},
   "source": [
    "## Phase flip correction\n",
    "\n",
    "Write a function that implements the 3-bit phase flip code which entangles the first qubit with the other two in the eigenstates of X meaning $|+\\rangle$ and $|-\\rangle$. The function should return the circuit. "
   ]
  },
  {
   "cell_type": "code",
   "execution_count": 73,
   "id": "97e1ed03",
   "metadata": {},
   "outputs": [
    {
     "data": {
      "text/html": [
       "<pre style=\"word-wrap: normal;white-space: pre;background: #fff0;line-height: 1.1;font-family: &quot;Courier New&quot;,Courier,monospace\">                ░ ┌───┐\n",
       "q_0: ──■────────░─┤ H ├\n",
       "     ┌─┴─┐      ░ ├───┤\n",
       "q_1: ┤ X ├──■───░─┤ H ├\n",
       "     └───┘┌─┴─┐ ░ ├───┤\n",
       "q_2: ─────┤ X ├─░─┤ H ├\n",
       "          └───┘ ░ └───┘\n",
       "c: 3/══════════════════\n",
       "                       </pre>"
      ],
      "text/plain": [
       "                ░ ┌───┐\n",
       "q_0: ──■────────░─┤ H ├\n",
       "     ┌─┴─┐      ░ ├───┤\n",
       "q_1: ┤ X ├──■───░─┤ H ├\n",
       "     └───┘┌─┴─┐ ░ ├───┤\n",
       "q_2: ─────┤ X ├─░─┤ H ├\n",
       "          └───┘ ░ └───┘\n",
       "c: 3/══════════════════\n",
       "                       "
      ]
     },
     "execution_count": 73,
     "metadata": {},
     "output_type": "execute_result"
    }
   ],
   "source": [
    "def phase_flip_circuit(num_qubits):\n",
    "    \n",
    "    circ = QuantumCircuit(num_qubits, num_qubits)\n",
    "    for i in range(num_qubits - 1):\n",
    "        circ.cx(i, i+1)\n",
    "    circ.barrier()\n",
    "    for i in range(num_qubits):\n",
    "        circ.h(i)\n",
    "    return circ\n",
    "\n",
    "circ = phase_flip_circuit(3)\n",
    "circ.draw()\n",
    "    "
   ]
  },
  {
   "cell_type": "markdown",
   "id": "defdf719",
   "metadata": {},
   "source": [
    "## Quantum Circuit Equivalent Matrix\n",
    "\n",
    "Calculate the total matrix that is equivalent to the application of two Cx gates betweem the first and second qubits and between the first and third qubits respectively. "
   ]
  },
  {
   "cell_type": "code",
   "execution_count": 3,
   "id": "48965084",
   "metadata": {},
   "outputs": [
    {
     "name": "stdout",
     "output_type": "stream",
     "text": [
      "[[1 0 0 0 0 0 0 0]\n",
      " [0 1 0 0 0 0 0 0]\n",
      " [0 0 1 0 0 0 0 0]\n",
      " [0 0 0 1 0 0 0 0]\n",
      " [0 0 0 0 0 0 1 0]\n",
      " [0 0 0 0 0 0 0 1]\n",
      " [0 0 0 0 1 0 0 0]\n",
      " [0 0 0 0 0 1 0 0]]\n"
     ]
    }
   ],
   "source": [
    "import numpy as np \n",
    "\n",
    "Cx = np.array([[1, 0, 0, 0], [0, 1, 0, 0], [0, 0, 0, 1], [0, 0, 1, 0]])\n",
    "I = np.array([[1, 0], [0, 1]])\n",
    "M = np.kron(Cx, I)\n",
    "\n",
    "print(M)"
   ]
  },
  {
   "cell_type": "code",
   "execution_count": 4,
   "id": "8ce0c8fd",
   "metadata": {},
   "outputs": [
    {
     "name": "stdout",
     "output_type": "stream",
     "text": [
      "[[1 0 0 0 0 0 0 0]\n",
      " [0 1 0 0 0 0 0 0]\n",
      " [0 0 1 0 0 0 0 0]\n",
      " [0 0 0 1 0 0 0 0]\n",
      " [0 0 0 0 0 1 0 0]\n",
      " [0 0 0 0 1 0 0 0]\n",
      " [0 0 0 0 0 0 0 1]\n",
      " [0 0 0 0 0 0 1 0]]\n"
     ]
    }
   ],
   "source": [
    "W = np.array([[1, 0, 0, 0, 0, 0, 0, 0], \n",
    "              [0, 1, 0, 0, 0, 0, 0, 0], \n",
    "              [0, 0, 1, 0, 0, 0, 0, 0], \n",
    "              [0, 0, 0, 1, 0, 0, 0, 0], \n",
    "              [0, 0, 0, 0, 0, 1, 0, 0], \n",
    "              [0, 0, 0, 0, 1, 0, 0, 0], \n",
    "              [0, 0, 0, 0, 0, 0, 0, 1], \n",
    "              [0, 0, 0, 0, 0, 0, 1, 0]])\n",
    "\n",
    "print(W)"
   ]
  },
  {
   "cell_type": "code",
   "execution_count": 6,
   "id": "4b882cd7",
   "metadata": {},
   "outputs": [
    {
     "name": "stdout",
     "output_type": "stream",
     "text": [
      "[[1 0 0 0 0 0 0 0]\n",
      " [0 1 0 0 0 0 0 0]\n",
      " [0 0 1 0 0 0 0 0]\n",
      " [0 0 0 1 0 0 0 0]\n",
      " [0 0 0 0 0 0 0 1]\n",
      " [0 0 0 0 0 0 1 0]\n",
      " [0 0 0 0 0 1 0 0]\n",
      " [0 0 0 0 1 0 0 0]]\n"
     ]
    }
   ],
   "source": [
    "U = np.matmul(W, M)\n",
    "print(U)"
   ]
  },
  {
   "cell_type": "markdown",
   "id": "440032db",
   "metadata": {},
   "source": [
    "## Define the initial state vector for 3 qubits\n",
    "\n",
    "The first qubit is $|\\psi\\rangle = 0.3|0\\rangle + 0.9|1\\rangle$. The other two qubits are at $|0\\rangle$ state."
   ]
  },
  {
   "cell_type": "code",
   "execution_count": 13,
   "id": "992ae467",
   "metadata": {
    "scrolled": true
   },
   "outputs": [
    {
     "name": "stdout",
     "output_type": "stream",
     "text": [
      "0b0: 0.3\n",
      "0b1: 0.0\n",
      "0b10: 0.0\n",
      "0b11: 0.0\n",
      "0b100: 0.9\n",
      "0b101: 0.0\n",
      "0b110: 0.0\n",
      "0b111: 0.0\n"
     ]
    }
   ],
   "source": [
    "psi = np.array([0.3, 0.9])\n",
    "zero = np.array([1.0, 0.0])\n",
    "v = np.kron(psi, zero)\n",
    "v = np.kron(v, zero)\n",
    "\n",
    "def print_state(v):\n",
    "    for i in range(len(v)):\n",
    "        print(f\"{bin(i)}: \" + str(v[i]))\n",
    "        \n",
    "print_state(v)"
   ]
  },
  {
   "cell_type": "code",
   "execution_count": 14,
   "id": "edd342c2",
   "metadata": {},
   "outputs": [
    {
     "name": "stdout",
     "output_type": "stream",
     "text": [
      "0b0: 0.3\n",
      "0b1: 0.0\n",
      "0b10: 0.0\n",
      "0b11: 0.0\n",
      "0b100: 0.0\n",
      "0b101: 0.0\n",
      "0b110: 0.0\n",
      "0b111: 0.9\n"
     ]
    }
   ],
   "source": [
    "v_final = np.matmul(U, v)\n",
    "print_state(v_final)"
   ]
  },
  {
   "cell_type": "markdown",
   "id": "962b228c",
   "metadata": {},
   "source": [
    "## Exercise \n",
    "\n",
    "Implement the bit flip error correction circuit using the syndrome measurement technique. Use three qubits for encoding the entangled state and two qubits as syndrome qubits. Draw and simulate the final circuit. "
   ]
  },
  {
   "cell_type": "code",
   "execution_count": 26,
   "id": "e35d5bc5",
   "metadata": {},
   "outputs": [
    {
     "data": {
      "text/html": [
       "<pre style=\"word-wrap: normal;white-space: pre;background: #fff0;line-height: 1.1;font-family: &quot;Courier New&quot;,Courier,monospace\">     ┌───┐           ░       ░                           \n",
       "q_0: ┤ H ├──■────■───░───────░───■─────────■─────────────\n",
       "     └───┘┌─┴─┐  │   ░ ┌───┐ ░   │         │             \n",
       "q_1: ─────┤ X ├──┼───░─┤ X ├─░───┼────■────┼─────────────\n",
       "          └───┘┌─┴─┐ ░ └───┘ ░   │    │    │             \n",
       "q_2: ──────────┤ X ├─░───────░───┼────┼────┼────■────────\n",
       "               └───┘ ░       ░ ┌─┴─┐┌─┴─┐  │    │  ┌─┐   \n",
       "q_3: ────────────────░───────░─┤ X ├┤ X ├──┼────┼──┤M├───\n",
       "                     ░       ░ └───┘└───┘┌─┴─┐┌─┴─┐└╥┘┌─┐\n",
       "q_4: ────────────────░───────░───────────┤ X ├┤ X ├─╫─┤M├\n",
       "                     ░       ░           └───┘└───┘ ║ └╥┘\n",
       "c: 5/═══════════════════════════════════════════════╩══╩═\n",
       "                                                    3  4 </pre>"
      ],
      "text/plain": [
       "     ┌───┐           ░       ░                           \n",
       "q_0: ┤ H ├──■────■───░───────░───■─────────■─────────────\n",
       "     └───┘┌─┴─┐  │   ░ ┌───┐ ░   │         │             \n",
       "q_1: ─────┤ X ├──┼───░─┤ X ├─░───┼────■────┼─────────────\n",
       "          └───┘┌─┴─┐ ░ └───┘ ░   │    │    │             \n",
       "q_2: ──────────┤ X ├─░───────░───┼────┼────┼────■────────\n",
       "               └───┘ ░       ░ ┌─┴─┐┌─┴─┐  │    │  ┌─┐   \n",
       "q_3: ────────────────░───────░─┤ X ├┤ X ├──┼────┼──┤M├───\n",
       "                     ░       ░ └───┘└───┘┌─┴─┐┌─┴─┐└╥┘┌─┐\n",
       "q_4: ────────────────░───────░───────────┤ X ├┤ X ├─╫─┤M├\n",
       "                     ░       ░           └───┘└───┘ ║ └╥┘\n",
       "c: 5/═══════════════════════════════════════════════╩══╩═\n",
       "                                                    3  4 "
      ]
     },
     "execution_count": 26,
     "metadata": {},
     "output_type": "execute_result"
    }
   ],
   "source": [
    "from qiskit import * \n",
    "\n",
    "n = 5\n",
    "\n",
    "qc = QuantumCircuit(n, n)\n",
    "\n",
    "# initialize an equal superposition on the first qubit \n",
    "qc.h(0)\n",
    "\n",
    "# entangle the first three qubits\n",
    "qc.cx(0, 1)\n",
    "qc.cx(0, 2)\n",
    "\n",
    "# apply noise/error \n",
    "qc.barrier()\n",
    "idx = np.random.randint(0, 3)\n",
    "qc.x(idx)\n",
    "qc.barrier()\n",
    "\n",
    "# prepare syndrome qubits \n",
    "qc.cx(0, 3)\n",
    "qc.cx(1, 3)\n",
    "qc.cx(0, 4)\n",
    "qc.cx(2, 4)\n",
    "\n",
    "# add measurement to the syndrome qubits \n",
    "qc.measure(3, 3)\n",
    "qc.measure(4, 4)\n",
    "\n",
    "qc.draw()\n"
   ]
  },
  {
   "cell_type": "code",
   "execution_count": null,
   "id": "4c568267",
   "metadata": {},
   "outputs": [],
   "source": []
  }
 ],
 "metadata": {
  "kernelspec": {
   "display_name": "Python 3 (ipykernel)",
   "language": "python",
   "name": "python3"
  },
  "language_info": {
   "codemirror_mode": {
    "name": "ipython",
    "version": 3
   },
   "file_extension": ".py",
   "mimetype": "text/x-python",
   "name": "python",
   "nbconvert_exporter": "python",
   "pygments_lexer": "ipython3",
   "version": "3.9.5"
  }
 },
 "nbformat": 4,
 "nbformat_minor": 5
}
