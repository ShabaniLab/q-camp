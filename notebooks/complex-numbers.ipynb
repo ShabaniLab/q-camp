{
 "cells": [
  {
   "cell_type": "markdown",
   "id": "extreme-morocco",
   "metadata": {},
   "source": [
    "# Complex Numbers\n",
    "In this notebook we are going to learn about complex numbers and how to work with them in `python`. \n",
    "We use the same `numpy` library which can handlwe complex numbers as well as real numbers. "
   ]
  },
  {
   "cell_type": "code",
   "execution_count": 75,
   "id": "atomic-marine",
   "metadata": {},
   "outputs": [
    {
     "name": "stdout",
     "output_type": "stream",
     "text": [
      "<class 'int'>\n",
      "<class 'float'>\n",
      "<class 'complex'>\n",
      "2.0\n",
      "3.0\n"
     ]
    }
   ],
   "source": [
    "import numpy as np \n",
    "\n",
    "a = -1\n",
    "b = 2.3\n",
    "z = 2 + 3j\n",
    "\n",
    "# type of a variable \n",
    "print(type(a))\n",
    "print(type(b))\n",
    "print(type(z))\n",
    "\n",
    "# real and imaginary parts \n",
    "print(np.real(z))\n",
    "print(np.imag(z))"
   ]
  },
  {
   "cell_type": "markdown",
   "id": "advance-amino",
   "metadata": {},
   "source": [
    "## Conjugation\n",
    "\n",
    "The conjugate of a complex number $z = x + iy$ is denoted by $z^*$ or $\\overline{z}$ and is obtained by replacing $i$ with $-i$. \n",
    "\n",
    "$$\n",
    "z = x + iy \\quad \\rightarrow \\quad z^* = x - iy \n",
    "$$"
   ]
  },
  {
   "cell_type": "code",
   "execution_count": 76,
   "id": "reserved-mobility",
   "metadata": {},
   "outputs": [
    {
     "name": "stdout",
     "output_type": "stream",
     "text": [
      "(2+3j)\n",
      "(2-3j)\n"
     ]
    }
   ],
   "source": [
    "# conjugation\n",
    "print(z)\n",
    "print(np.conjugate(z))"
   ]
  },
  {
   "cell_type": "code",
   "execution_count": 82,
   "id": "liquid-desperate",
   "metadata": {},
   "outputs": [
    {
     "data": {
      "image/png": "[encoded data removed]",
      "text/plain": [
       "<Figure size 432x288 with 1 Axes>"
      ]
     },
     "metadata": {
      "needs_background": "light"
     },
     "output_type": "display_data"
    }
   ],
   "source": [
    "# plot the conjugates \n",
    "import matplotlib.pyplot as plt\n",
    "\n",
    "# make figure\n",
    "fig = plt.figure()\n",
    "\n",
    "# get the axes\n",
    "ax = plt.axes()\n",
    "\n",
    "# here we use \"scatter\" to plot individual points on the 2D plane\n",
    "ax.scatter(0, 0, marker='o', color='gray')\n",
    "ax.scatter(np.real(z), np.imag(z), marker='s', label=\"$z$\")\n",
    "ax.scatter(np.real(np.conjugate(z)), np.imag(np.conjugate(z)), marker='*', label=\"$z^*$\")\n",
    "\n",
    "# fix the axis limit\n",
    "ax.set_xlim([-4, 4])\n",
    "ax.set_ylim([-4, 4])\n",
    "\n",
    "# show the grid lines \n",
    "ax.grid()\n",
    "\n",
    "# show the labels \n",
    "ax.legend()\n",
    "\n",
    "# show the plot \n",
    "plt.show()"
   ]
  },
  {
   "cell_type": "markdown",
   "id": "quarterly-bullet",
   "metadata": {},
   "source": [
    "## Absolute value (norm) and angle \n",
    "\n",
    "<img src=\"fig/complex-conjugate.png\" alt=\"complex conjugate\" width=\"200\"/>\n",
    "\n",
    "The absolute value of a complex number $z = x + iy $ is obtained as \n",
    "\n",
    "$$\n",
    "r = |z| = \\sqrt{x^2 + y^2}\n",
    "$$\n",
    "\n",
    "Another way to think about norm is through the definition $|z| = \\sqrt{z z^*}$ where \n",
    "\n",
    "$$\n",
    "z z^* = (x + iy)(x - iy) = x^2 - i xy + i yx + y^2 = x^2 + y^2. \n",
    "$$\n",
    "\n",
    "Every complex number $z$ has a specific angle $\\varphi$ assigned to it which is between the $x$ axis and the line crossing $z$ and the origin as the figure shows. \n",
    "\n"
   ]
  },
  {
   "cell_type": "code",
   "execution_count": 83,
   "id": "assured-large",
   "metadata": {},
   "outputs": [
    {
     "name": "stdout",
     "output_type": "stream",
     "text": [
      "(3.605551275463989+0j)\n",
      "3.605551275463989\n",
      "3.605551275463989\n"
     ]
    }
   ],
   "source": [
    "# multiplication \n",
    "print(np.sqrt(np.conjugate(z)*z))\n",
    "\n",
    "# norm / absolute value \n",
    "print(np.sqrt(2.0*2.0 + 3*3))\n",
    "print(np.absolute(z))"
   ]
  },
  {
   "cell_type": "code",
   "execution_count": 80,
   "id": "fluid-contract",
   "metadata": {},
   "outputs": [
    {
     "name": "stdout",
     "output_type": "stream",
     "text": [
      "0.982793723247329\n",
      "56.309932474020215\n"
     ]
    }
   ],
   "source": [
    "# in radians \n",
    "print(np.angle(z)) \n",
    "# in angles \n",
    "print(np.angle(z, deg=True))"
   ]
  },
  {
   "cell_type": "markdown",
   "id": "convenient-source",
   "metadata": {},
   "source": [
    "## Exercise: Mandelbrot set\n",
    "\n",
    "\n",
    "<img src=\"fig/mandelbrot.jpg\" alt=\"Mandelbrot\" width=\"400\"/>\n",
    "\n",
    "The [Mandelbrot set](https://en.wikipedia.org/wiki/Mandelbrot_set) is a set of complex numbers $c$ for which the function $f_c(z) = z^2 + c$ does not diverges when iterated, that is, the sequence $f_c(z), f_c(f_c(z)), ...$ is bounded and does not diverge to infinity.  "
   ]
  },
  {
   "cell_type": "code",
   "execution_count": 96,
   "id": "chubby-method",
   "metadata": {},
   "outputs": [
    {
     "data": {
      "image/png": "[encoded data removed]",
      "text/plain": [
       "<Figure size 432x288 with 1 Axes>"
      ]
     },
     "metadata": {
      "needs_background": "light"
     },
     "output_type": "display_data"
    }
   ],
   "source": [
    "c = - \n",
    "z = 0\n",
    "\n",
    "# define an array \n",
    "max_iteration = 1000\n",
    "A = np.zeros(max_iteration, dtype=np.complex128)\n",
    "\n",
    "for i in range(max_iteration):\n",
    "    f = z**2 + c\n",
    "    A[i] = f\n",
    "    z = f\n",
    "\n",
    "# make figure\n",
    "fig = plt.figure()\n",
    "\n",
    "# get the axes\n",
    "ax = plt.axes()\n",
    "\n",
    "ax.scatter(np.real(A), np.imag(A))\n",
    "\n",
    "plt.show()"
   ]
  },
  {
   "cell_type": "code",
   "execution_count": null,
   "id": "unnecessary-relaxation",
   "metadata": {},
   "outputs": [],
   "source": []
  }
 ],
 "metadata": {
  "kernelspec": {
   "display_name": "Python 3",
   "language": "python",
   "name": "python3"
  },
  "language_info": {
   "codemirror_mode": {
    "name": "ipython",
    "version": 3
   },
   "file_extension": ".py",
   "mimetype": "text/x-python",
   "name": "python",
   "nbconvert_exporter": "python",
   "pygments_lexer": "ipython3",
   "version": "3.8.5"
  }
 },
 "nbformat": 4,
 "nbformat_minor": 5
}
