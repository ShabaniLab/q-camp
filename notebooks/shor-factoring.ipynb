{
 "cells": [
  {
   "cell_type": "markdown",
   "id": "2a15b689",
   "metadata": {},
   "source": [
    "# Shor's factoring algorithm"
   ]
  },
  {
   "cell_type": "markdown",
   "id": "7fb40b9a",
   "metadata": {},
   "source": [
    "## Euclid's Algorithm\n",
    "\n",
    "Write a function that implements Euclid's algorithm for calculating the greatest common divisor of two numbers a and b. "
   ]
  },
  {
   "cell_type": "code",
   "execution_count": 7,
   "id": "ad23d020",
   "metadata": {},
   "outputs": [
    {
     "name": "stdout",
     "output_type": "stream",
     "text": [
      "14\n"
     ]
    }
   ],
   "source": [
    "import numpy as np\n",
    "\n",
    "def gcd(a, b):\n",
    "    r = 1\n",
    "    while r != 0:\n",
    "        r = a%b\n",
    "        if r == 0:\n",
    "            break\n",
    "        a = b\n",
    "        b = r\n",
    "    \n",
    "    return b\n",
    "\n",
    "print(gcd(630, 56))"
   ]
  },
  {
   "cell_type": "markdown",
   "id": "579344e2",
   "metadata": {},
   "source": [
    "## period finding\n",
    "\n",
    "write a function that takes $a$ and $N$ and returns the smallest $r$ such that $a^r = 1$ mod $N$\n",
    "\n",
    "First, plot $a^r$ mod $N$ for different values of $r$. "
   ]
  },
  {
   "cell_type": "code",
   "execution_count": 22,
   "id": "810a1817",
   "metadata": {},
   "outputs": [
    {
     "name": "stdout",
     "output_type": "stream",
     "text": [
      "[         49         343        2401       16807      117649      823543\n",
      "     5764801    40353607   282475249  1977326743 13841287201]\n"
     ]
    }
   ],
   "source": [
    "N = 13\n",
    "a = 7\n",
    "\n",
    "r_vals = np.arange(2, N)\n",
    "a_power_r = np.power(a, r_vals)\n",
    "print(a_power_r)\n",
    "a_r_mod_N = a_power_r%N"
   ]
  },
  {
   "cell_type": "code",
   "execution_count": 23,
   "id": "929eaaf3",
   "metadata": {},
   "outputs": [
    {
     "data": {
      "text/plain": [
       "[<matplotlib.lines.Line2D at 0x7fc1c5d2fee0>]"
      ]
     },
     "execution_count": 23,
     "metadata": {},
     "output_type": "execute_result"
    },
    {
     "data": {
      "image/png": "[encoded data removed]",
      "text/plain": [
       "<Figure size 432x288 with 1 Axes>"
      ]
     },
     "metadata": {
      "needs_background": "light"
     },
     "output_type": "display_data"
    }
   ],
   "source": [
    "import matplotlib.pyplot as plt\n",
    "\n",
    "plt.plot(r_vals, a_r_mod_N)"
   ]
  },
  {
   "cell_type": "code",
   "execution_count": 21,
   "id": "72af2e6e",
   "metadata": {},
   "outputs": [
    {
     "name": "stdout",
     "output_type": "stream",
     "text": [
      "1\n"
     ]
    }
   ],
   "source": [
    "def modulo(a, r, N):\n",
    "    \n",
    "    mod = a\n",
    "    for i in range(r - 1):\n",
    "        mod = (mod*a)%N\n",
    "        \n",
    "    return mod \n",
    "\n",
    "print(modulo(7, 4, 15))"
   ]
  },
  {
   "cell_type": "markdown",
   "id": "bc4e46b3",
   "metadata": {},
   "source": [
    "## Period detection\n",
    "\n",
    "Write a function that returns the smallest r such that $a^r = 1$ mod $N$. "
   ]
  },
  {
   "cell_type": "code",
   "execution_count": 37,
   "id": "8616a58d",
   "metadata": {},
   "outputs": [
    {
     "name": "stdout",
     "output_type": "stream",
     "text": [
      "4\n"
     ]
    }
   ],
   "source": [
    "def period(a, N):\n",
    "    \n",
    "    mod = a\n",
    "    for i in range(2, N):\n",
    "        mod = (mod*a)%N\n",
    "        if mod == 1:\n",
    "            return i\n",
    "\n",
    "print(period(7, 15))"
   ]
  },
  {
   "cell_type": "code",
   "execution_count": 36,
   "id": "e50cc5a5",
   "metadata": {},
   "outputs": [
    {
     "name": "stdout",
     "output_type": "stream",
     "text": [
      "30\n"
     ]
    }
   ],
   "source": [
    "print(period(11, 31))"
   ]
  },
  {
   "cell_type": "markdown",
   "id": "be800aef",
   "metadata": {},
   "source": [
    "## Modular multiplication circuit \n",
    "Implement the circuit that calculates the modular multiplications of the form $|x\\rangle \\rightarrow |ax \\textrm{mod} 15\\rangle$ where $a = 7$. \n",
    "\n",
    "link: https://quantum-computing.ibm.com/composer/docs/iqx/guide/shors-algorithm"
   ]
  },
  {
   "cell_type": "code",
   "execution_count": 20,
   "id": "a6d2dee5",
   "metadata": {},
   "outputs": [
    {
     "data": {
      "text/html": [
       "<pre style=\"word-wrap: normal;white-space: pre;background: #fff0;line-height: 1.1;font-family: &quot;Courier New&quot;,Courier,monospace\">     ┌───┐                                   ┌───┐      ░ ┌───┐               »\n",
       "q_0: ┤ X ├────────────────────────────────■──┤ X ├──■───░─┤ X ├───────────────»\n",
       "     ├───┤     ┌───┐                      │  └─┬─┘  │   ░ ├───┤     ┌───┐     »\n",
       "q_1: ┤ X ├──■──┤ X ├──■───────────────────┼────┼────┼───░─┤ X ├──■──┤ X ├──■──»\n",
       "     ├───┤┌─┴─┐└─┬─┘┌─┴─┐     ┌───┐       │    │    │   ░ ├───┤┌─┴─┐└─┬─┘┌─┴─┐»\n",
       "q_2: ┤ X ├┤ X ├──■──┤ X ├──■──┤ X ├──■────┼────┼────┼───░─┤ X ├┤ X ├──■──┤ X ├»\n",
       "     ├───┤└───┘     └───┘┌─┴─┐└─┬─┘┌─┴─┐┌─┴─┐  │  ┌─┴─┐ ░ ├───┤└───┘     └───┘»\n",
       "q_3: ┤ X ├───────────────┤ X ├──■──┤ X ├┤ X ├──■──┤ X ├─░─┤ X ├───────────────»\n",
       "     └───┘               └───┘     └───┘└───┘     └───┘ ░ └───┘               »\n",
       "c: 4/═════════════════════════════════════════════════════════════════════════»\n",
       "                                                                              »\n",
       "«                         ┌───┐      ░ ┌───┐                                   »\n",
       "«q_0: ─────────────────■──┤ X ├──■───░─┤ X ├────────────────────────────────■──»\n",
       "«                      │  └─┬─┘  │   ░ ├───┤     ┌───┐                      │  »\n",
       "«q_1: ─────────────────┼────┼────┼───░─┤ X ├──■──┤ X ├──■───────────────────┼──»\n",
       "«          ┌───┐       │    │    │   ░ ├───┤┌─┴─┐└─┬─┘┌─┴─┐     ┌───┐       │  »\n",
       "«q_2: ──■──┤ X ├──■────┼────┼────┼───░─┤ X ├┤ X ├──■──┤ X ├──■──┤ X ├──■────┼──»\n",
       "«     ┌─┴─┐└─┬─┘┌─┴─┐┌─┴─┐  │  ┌─┴─┐ ░ ├───┤└───┘     └───┘┌─┴─┐└─┬─┘┌─┴─┐┌─┴─┐»\n",
       "«q_3: ┤ X ├──■──┤ X ├┤ X ├──■──┤ X ├─░─┤ X ├───────────────┤ X ├──■──┤ X ├┤ X ├»\n",
       "«     └───┘     └───┘└───┘     └───┘ ░ └───┘               └───┘     └───┘└───┘»\n",
       "«c: 4/═════════════════════════════════════════════════════════════════════════»\n",
       "«                                                                              »\n",
       "«     ┌───┐      ░ ┌───┐                                   ┌───┐      ░ \n",
       "«q_0: ┤ X ├──■───░─┤ X ├────────────────────────────────■──┤ X ├──■───░─\n",
       "«     └─┬─┘  │   ░ ├───┤     ┌───┐                      │  └─┬─┘  │   ░ \n",
       "«q_1: ──┼────┼───░─┤ X ├──■──┤ X ├──■───────────────────┼────┼────┼───░─\n",
       "«       │    │   ░ ├───┤┌─┴─┐└─┬─┘┌─┴─┐     ┌───┐       │    │    │   ░ \n",
       "«q_2: ──┼────┼───░─┤ X ├┤ X ├──■──┤ X ├──■──┤ X ├──■────┼────┼────┼───░─\n",
       "«       │  ┌─┴─┐ ░ ├───┤└───┘     └───┘┌─┴─┐└─┬─┘┌─┴─┐┌─┴─┐  │  ┌─┴─┐ ░ \n",
       "«q_3: ──■──┤ X ├─░─┤ X ├───────────────┤ X ├──■──┤ X ├┤ X ├──■──┤ X ├─░─\n",
       "«          └───┘ ░ └───┘               └───┘     └───┘└───┘     └───┘ ░ \n",
       "«c: 4/══════════════════════════════════════════════════════════════════\n",
       "«                                                                       </pre>"
      ],
      "text/plain": [
       "     ┌───┐                                   ┌───┐      ░ ┌───┐               »\n",
       "q_0: ┤ X ├────────────────────────────────■──┤ X ├──■───░─┤ X ├───────────────»\n",
       "     ├───┤     ┌───┐                      │  └─┬─┘  │   ░ ├───┤     ┌───┐     »\n",
       "q_1: ┤ X ├──■──┤ X ├──■───────────────────┼────┼────┼───░─┤ X ├──■──┤ X ├──■──»\n",
       "     ├───┤┌─┴─┐└─┬─┘┌─┴─┐     ┌───┐       │    │    │   ░ ├───┤┌─┴─┐└─┬─┘┌─┴─┐»\n",
       "q_2: ┤ X ├┤ X ├──■──┤ X ├──■──┤ X ├──■────┼────┼────┼───░─┤ X ├┤ X ├──■──┤ X ├»\n",
       "     ├───┤└───┘     └───┘┌─┴─┐└─┬─┘┌─┴─┐┌─┴─┐  │  ┌─┴─┐ ░ ├───┤└───┘     └───┘»\n",
       "q_3: ┤ X ├───────────────┤ X ├──■──┤ X ├┤ X ├──■──┤ X ├─░─┤ X ├───────────────»\n",
       "     └───┘               └───┘     └───┘└───┘     └───┘ ░ └───┘               »\n",
       "c: 4/═════════════════════════════════════════════════════════════════════════»\n",
       "                                                                              »\n",
       "«                         ┌───┐      ░ ┌───┐                                   »\n",
       "«q_0: ─────────────────■──┤ X ├──■───░─┤ X ├────────────────────────────────■──»\n",
       "«                      │  └─┬─┘  │   ░ ├───┤     ┌───┐                      │  »\n",
       "«q_1: ─────────────────┼────┼────┼───░─┤ X ├──■──┤ X ├──■───────────────────┼──»\n",
       "«          ┌───┐       │    │    │   ░ ├───┤┌─┴─┐└─┬─┘┌─┴─┐     ┌───┐       │  »\n",
       "«q_2: ──■──┤ X ├──■────┼────┼────┼───░─┤ X ├┤ X ├──■──┤ X ├──■──┤ X ├──■────┼──»\n",
       "«     ┌─┴─┐└─┬─┘┌─┴─┐┌─┴─┐  │  ┌─┴─┐ ░ ├───┤└───┘     └───┘┌─┴─┐└─┬─┘┌─┴─┐┌─┴─┐»\n",
       "«q_3: ┤ X ├──■──┤ X ├┤ X ├──■──┤ X ├─░─┤ X ├───────────────┤ X ├──■──┤ X ├┤ X ├»\n",
       "«     └───┘     └───┘└───┘     └───┘ ░ └───┘               └───┘     └───┘└───┘»\n",
       "«c: 4/═════════════════════════════════════════════════════════════════════════»\n",
       "«                                                                              »\n",
       "«     ┌───┐      ░ ┌───┐                                   ┌───┐      ░ \n",
       "«q_0: ┤ X ├──■───░─┤ X ├────────────────────────────────■──┤ X ├──■───░─\n",
       "«     └─┬─┘  │   ░ ├───┤     ┌───┐                      │  └─┬─┘  │   ░ \n",
       "«q_1: ──┼────┼───░─┤ X ├──■──┤ X ├──■───────────────────┼────┼────┼───░─\n",
       "«       │    │   ░ ├───┤┌─┴─┐└─┬─┘┌─┴─┐     ┌───┐       │    │    │   ░ \n",
       "«q_2: ──┼────┼───░─┤ X ├┤ X ├──■──┤ X ├──■──┤ X ├──■────┼────┼────┼───░─\n",
       "«       │  ┌─┴─┐ ░ ├───┤└───┘     └───┘┌─┴─┐└─┬─┘┌─┴─┐┌─┴─┐  │  ┌─┴─┐ ░ \n",
       "«q_3: ──■──┤ X ├─░─┤ X ├───────────────┤ X ├──■──┤ X ├┤ X ├──■──┤ X ├─░─\n",
       "«          └───┘ ░ └───┘               └───┘     └───┘└───┘     └───┘ ░ \n",
       "«c: 4/══════════════════════════════════════════════════════════════════\n",
       "«                                                                       "
      ]
     },
     "execution_count": 20,
     "metadata": {},
     "output_type": "execute_result"
    }
   ],
   "source": [
    "from qiskit import *\n",
    "\n",
    "n = 4\n",
    "circ = QuantumCircuit(n, n)\n",
    "\n",
    "def swap(circuit, i, j):\n",
    "    circuit.cx(i, j)\n",
    "    circuit.cx(j, i)\n",
    "    circuit.cx(i, j)\n",
    "    return circuit \n",
    "\n",
    "def unitary_7(circuit):\n",
    "    for i in range(n):\n",
    "        circuit.x(i)\n",
    "    \n",
    "    circuit = swap(circuit, 1, 2)\n",
    "    circuit = swap(circuit, 2, 3)\n",
    "    circuit = swap(circuit, 0, 3)\n",
    "    circuit.barrier()\n",
    "    \n",
    "    return circuit\n",
    "\n",
    "\n",
    "# circ.x(0)\n",
    "# circ.x(1)\n",
    "# circ.barrier()\n",
    "\n",
    "r = 4\n",
    "for j in range(r):\n",
    "    circ = unitary_7(circ)\n",
    "\n",
    "circ.draw()"
   ]
  },
  {
   "cell_type": "code",
   "execution_count": 21,
   "id": "4619223d",
   "metadata": {},
   "outputs": [
    {
     "name": "stdout",
     "output_type": "stream",
     "text": [
      "0b0 :1.0\n",
      "0b1 :0.0\n",
      "0b10 :0.0\n",
      "0b11 :0.0\n",
      "0b100 :0.0\n",
      "0b101 :0.0\n",
      "0b110 :0.0\n",
      "0b111 :0.0\n",
      "0b1000 :0.0\n",
      "0b1001 :0.0\n",
      "0b1010 :0.0\n",
      "0b1011 :0.0\n",
      "0b1100 :0.0\n",
      "0b1101 :0.0\n",
      "0b1110 :0.0\n",
      "0b1111 :0.0\n"
     ]
    }
   ],
   "source": [
    "backend = Aer.get_backend('statevector_simulator')\n",
    "job = execute(circ, backend)\n",
    "results = job.result()\n",
    "psi = results.get_statevector(circ)\n",
    "\n",
    "for i in range(len(psi)):\n",
    "    print(f\"{bin(i)} :\" + str(abs(psi[i]**2)))"
   ]
  },
  {
   "cell_type": "code",
   "execution_count": null,
   "id": "d66d6999",
   "metadata": {},
   "outputs": [],
   "source": []
  }
 ],
 "metadata": {
  "kernelspec": {
   "display_name": "Python 3 (ipykernel)",
   "language": "python",
   "name": "python3"
  },
  "language_info": {
   "codemirror_mode": {
    "name": "ipython",
    "version": 3
   },
   "file_extension": ".py",
   "mimetype": "text/x-python",
   "name": "python",
   "nbconvert_exporter": "python",
   "pygments_lexer": "ipython3",
   "version": "3.9.5"
  }
 },
 "nbformat": 4,
 "nbformat_minor": 5
}
