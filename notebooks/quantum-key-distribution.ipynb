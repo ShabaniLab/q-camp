{
 "cells": [
  {
   "cell_type": "markdown",
   "id": "e55483bc",
   "metadata": {},
   "source": [
    "## Exercise\n",
    "write a function that takes the classical bit, Alice's basis, and Bob's basis, and returns a quantum circuit that simulates the BB84 protocol for that single bit. "
   ]
  },
  {
   "cell_type": "code",
   "execution_count": 3,
   "id": "3bf95853",
   "metadata": {},
   "outputs": [],
   "source": [
    "import numpy as np \n",
    "from qiskit import *"
   ]
  },
  {
   "cell_type": "code",
   "execution_count": 5,
   "id": "7f75de97",
   "metadata": {},
   "outputs": [],
   "source": []
  },
  {
   "cell_type": "code",
   "execution_count": 10,
   "id": "ccef415a",
   "metadata": {},
   "outputs": [
    {
     "data": {
      "text/html": [
       "<pre style=\"word-wrap: normal;white-space: pre;background: #fff0;line-height: 1.1;font-family: &quot;Courier New&quot;,Courier,monospace\">     ┌───┐ ░ ┌───┐┌─┐\n",
       "q_0: ┤ X ├─░─┤ H ├┤M├\n",
       "     └───┘ ░ └───┘└╥┘\n",
       "c: 1/══════════════╩═\n",
       "                   0 </pre>"
      ],
      "text/plain": [
       "     ┌───┐ ░ ┌───┐┌─┐\n",
       "q_0: ┤ X ├─░─┤ H ├┤M├\n",
       "     └───┘ ░ └───┘└╥┘\n",
       "c: 1/══════════════╩═\n",
       "                   0 "
      ]
     },
     "execution_count": 10,
     "metadata": {},
     "output_type": "execute_result"
    }
   ],
   "source": [
    "def update_circuit(classical_bit, alice_basis='Z', bob_basis='Z'):\n",
    "        circuit = QuantumCircuit(1, 1)\n",
    "        if alice_basis == 'Z':\n",
    "            if classical_bit == 0:\n",
    "                pass # do nothing \n",
    "            else: \n",
    "                circuit.x(0)\n",
    "        elif alice_basis == 'X':\n",
    "            if classical_bit == 0:\n",
    "                circuit.h(0)\n",
    "            else:\n",
    "                circuit.x(0)\n",
    "                circuit.h(0)\n",
    "        else: \n",
    "            pass \n",
    "        \n",
    "        if bob_basis == 'Z':\n",
    "            circuit.barrier(0)\n",
    "            circuit.measure(0, 0)\n",
    "        elif bob_basis == 'X':\n",
    "            circuit.barrier(0)\n",
    "            circuit.h(0)\n",
    "            circuit.measure(0, 0)\n",
    "        else:\n",
    "            pass \n",
    "        \n",
    "        return circuit\n",
    "    \n",
    "    \n",
    "circ = update_circuit(1, 'Z', 'X')\n",
    "            \n",
    "circ.draw()\n",
    "            "
   ]
  },
  {
   "cell_type": "markdown",
   "id": "3de67de2",
   "metadata": {},
   "source": [
    "## Exercise\n",
    "simulate the circuit with 1024 shots. "
   ]
  },
  {
   "cell_type": "code",
   "execution_count": 11,
   "id": "63615208",
   "metadata": {},
   "outputs": [
    {
     "name": "stdout",
     "output_type": "stream",
     "text": [
      "{'0': 502, '1': 522}\n"
     ]
    }
   ],
   "source": [
    "backend = Aer.get_backend('qasm_simulator')\n",
    "job = execute(circ, backend, shots=1024)\n",
    "result = job.result()\n",
    "counts = result.get_counts(circ)\n",
    "print(counts)"
   ]
  },
  {
   "cell_type": "code",
   "execution_count": null,
   "id": "01c7c356",
   "metadata": {},
   "outputs": [],
   "source": []
  }
 ],
 "metadata": {
  "kernelspec": {
   "display_name": "Python 3 (ipykernel)",
   "language": "python",
   "name": "python3"
  },
  "language_info": {
   "codemirror_mode": {
    "name": "ipython",
    "version": 3
   },
   "file_extension": ".py",
   "mimetype": "text/x-python",
   "name": "python",
   "nbconvert_exporter": "python",
   "pygments_lexer": "ipython3",
   "version": "3.9.5"
  }
 },
 "nbformat": 4,
 "nbformat_minor": 5
}
